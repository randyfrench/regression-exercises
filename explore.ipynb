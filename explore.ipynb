{
 "cells": [
  {
   "cell_type": "markdown",
   "id": "b72f6506",
   "metadata": {},
   "source": [
    "## Exercises I - Required"
   ]
  },
  {
   "cell_type": "code",
   "execution_count": 2,
   "id": "d973da1a",
   "metadata": {},
   "outputs": [],
   "source": [
    "import warnings\n",
    "warnings.filterwarnings(\"ignore\")\n",
    "\n",
    "import pandas as pd\n",
    "import numpy as np\n",
    "\n",
    "import matplotlib.pyplot as plt\n",
    "import seaborn as sns\n",
    "\n",
    "from sklearn.model_selection import train_test_split\n",
    "from scipy.stats import pearsonr, spearmanr\n",
    "\n",
    "import env\n",
    "import acquire"
   ]
  },
  {
   "cell_type": "markdown",
   "id": "cee822d3",
   "metadata": {},
   "source": [
    "### Acquire"
   ]
  },
  {
   "cell_type": "code",
   "execution_count": 3,
   "id": "ca608736",
   "metadata": {},
   "outputs": [],
   "source": [
    "df = acquire.get_telco_data()"
   ]
  },
  {
   "cell_type": "code",
   "execution_count": 4,
   "id": "8387004e",
   "metadata": {},
   "outputs": [
    {
     "data": {
      "text/plain": [
       "(7043, 24)"
      ]
     },
     "execution_count": 4,
     "metadata": {},
     "output_type": "execute_result"
    }
   ],
   "source": [
    "df.shape"
   ]
  },
  {
   "cell_type": "code",
   "execution_count": 5,
   "id": "4e9d7da2",
   "metadata": {},
   "outputs": [],
   "source": [
    "# drop any duplicates\n",
    "df.drop_duplicates(inplace=True)\n",
    "    \n",
    "    # fill any empty spaces with np.nan\n",
    "df.replace(' ', np.nan, inplace=True)\n",
    "    \n",
    "    # drop rows that contain null values, they are a small percentage\n",
    "df.dropna(axis=0, inplace=True)\n",
    "    \n",
    "    # convert total_charges to a numeric data type\n",
    "df = df.astype({'total_charges': 'float64'})\n",
    "\n",
    "    # No computations will be done on 'customer_id' that column will become the index.\n",
    "df.set_index('customer_id', drop=True, inplace=True)"
   ]
  },
  {
   "cell_type": "code",
   "execution_count": 6,
   "id": "df3e68a7",
   "metadata": {},
   "outputs": [
    {
     "data": {
      "text/html": [
       "<div>\n",
       "<style scoped>\n",
       "    .dataframe tbody tr th:only-of-type {\n",
       "        vertical-align: middle;\n",
       "    }\n",
       "\n",
       "    .dataframe tbody tr th {\n",
       "        vertical-align: top;\n",
       "    }\n",
       "\n",
       "    .dataframe thead th {\n",
       "        text-align: right;\n",
       "    }\n",
       "</style>\n",
       "<table border=\"1\" class=\"dataframe\">\n",
       "  <thead>\n",
       "    <tr style=\"text-align: right;\">\n",
       "      <th></th>\n",
       "      <th>internet_service_type_id</th>\n",
       "      <th>payment_type_id</th>\n",
       "      <th>contract_type_id</th>\n",
       "      <th>gender</th>\n",
       "      <th>senior_citizen</th>\n",
       "      <th>partner</th>\n",
       "      <th>dependents</th>\n",
       "      <th>tenure</th>\n",
       "      <th>phone_service</th>\n",
       "      <th>multiple_lines</th>\n",
       "      <th>...</th>\n",
       "      <th>tech_support</th>\n",
       "      <th>streaming_tv</th>\n",
       "      <th>streaming_movies</th>\n",
       "      <th>paperless_billing</th>\n",
       "      <th>monthly_charges</th>\n",
       "      <th>total_charges</th>\n",
       "      <th>churn</th>\n",
       "      <th>contract_type</th>\n",
       "      <th>payment_type</th>\n",
       "      <th>internet_service_type</th>\n",
       "    </tr>\n",
       "    <tr>\n",
       "      <th>customer_id</th>\n",
       "      <th></th>\n",
       "      <th></th>\n",
       "      <th></th>\n",
       "      <th></th>\n",
       "      <th></th>\n",
       "      <th></th>\n",
       "      <th></th>\n",
       "      <th></th>\n",
       "      <th></th>\n",
       "      <th></th>\n",
       "      <th></th>\n",
       "      <th></th>\n",
       "      <th></th>\n",
       "      <th></th>\n",
       "      <th></th>\n",
       "      <th></th>\n",
       "      <th></th>\n",
       "      <th></th>\n",
       "      <th></th>\n",
       "      <th></th>\n",
       "      <th></th>\n",
       "    </tr>\n",
       "  </thead>\n",
       "  <tbody>\n",
       "    <tr>\n",
       "      <th>2794-XIMMO</th>\n",
       "      <td>1</td>\n",
       "      <td>1</td>\n",
       "      <td>2</td>\n",
       "      <td>Male</td>\n",
       "      <td>0</td>\n",
       "      <td>Yes</td>\n",
       "      <td>No</td>\n",
       "      <td>53</td>\n",
       "      <td>No</td>\n",
       "      <td>No phone service</td>\n",
       "      <td>...</td>\n",
       "      <td>Yes</td>\n",
       "      <td>Yes</td>\n",
       "      <td>Yes</td>\n",
       "      <td>Yes</td>\n",
       "      <td>60.45</td>\n",
       "      <td>3184.25</td>\n",
       "      <td>Yes</td>\n",
       "      <td>One year</td>\n",
       "      <td>Electronic check</td>\n",
       "      <td>DSL</td>\n",
       "    </tr>\n",
       "    <tr>\n",
       "      <th>2851-STERV</th>\n",
       "      <td>1</td>\n",
       "      <td>1</td>\n",
       "      <td>2</td>\n",
       "      <td>Male</td>\n",
       "      <td>1</td>\n",
       "      <td>No</td>\n",
       "      <td>No</td>\n",
       "      <td>35</td>\n",
       "      <td>Yes</td>\n",
       "      <td>No</td>\n",
       "      <td>...</td>\n",
       "      <td>Yes</td>\n",
       "      <td>Yes</td>\n",
       "      <td>Yes</td>\n",
       "      <td>Yes</td>\n",
       "      <td>73.00</td>\n",
       "      <td>2471.25</td>\n",
       "      <td>No</td>\n",
       "      <td>One year</td>\n",
       "      <td>Electronic check</td>\n",
       "      <td>DSL</td>\n",
       "    </tr>\n",
       "    <tr>\n",
       "      <th>2898-LSJGD</th>\n",
       "      <td>1</td>\n",
       "      <td>1</td>\n",
       "      <td>2</td>\n",
       "      <td>Female</td>\n",
       "      <td>0</td>\n",
       "      <td>Yes</td>\n",
       "      <td>Yes</td>\n",
       "      <td>21</td>\n",
       "      <td>No</td>\n",
       "      <td>No phone service</td>\n",
       "      <td>...</td>\n",
       "      <td>No</td>\n",
       "      <td>Yes</td>\n",
       "      <td>Yes</td>\n",
       "      <td>Yes</td>\n",
       "      <td>55.95</td>\n",
       "      <td>1157.05</td>\n",
       "      <td>Yes</td>\n",
       "      <td>One year</td>\n",
       "      <td>Electronic check</td>\n",
       "      <td>DSL</td>\n",
       "    </tr>\n",
       "    <tr>\n",
       "      <th>2969-WGHQO</th>\n",
       "      <td>1</td>\n",
       "      <td>1</td>\n",
       "      <td>2</td>\n",
       "      <td>Female</td>\n",
       "      <td>0</td>\n",
       "      <td>Yes</td>\n",
       "      <td>Yes</td>\n",
       "      <td>7</td>\n",
       "      <td>Yes</td>\n",
       "      <td>No</td>\n",
       "      <td>...</td>\n",
       "      <td>No</td>\n",
       "      <td>Yes</td>\n",
       "      <td>No</td>\n",
       "      <td>No</td>\n",
       "      <td>69.45</td>\n",
       "      <td>477.05</td>\n",
       "      <td>No</td>\n",
       "      <td>One year</td>\n",
       "      <td>Electronic check</td>\n",
       "      <td>DSL</td>\n",
       "    </tr>\n",
       "    <tr>\n",
       "      <th>2988-PLAHS</th>\n",
       "      <td>1</td>\n",
       "      <td>1</td>\n",
       "      <td>2</td>\n",
       "      <td>Female</td>\n",
       "      <td>0</td>\n",
       "      <td>No</td>\n",
       "      <td>No</td>\n",
       "      <td>3</td>\n",
       "      <td>Yes</td>\n",
       "      <td>No</td>\n",
       "      <td>...</td>\n",
       "      <td>No</td>\n",
       "      <td>Yes</td>\n",
       "      <td>Yes</td>\n",
       "      <td>Yes</td>\n",
       "      <td>69.95</td>\n",
       "      <td>220.45</td>\n",
       "      <td>No</td>\n",
       "      <td>One year</td>\n",
       "      <td>Electronic check</td>\n",
       "      <td>DSL</td>\n",
       "    </tr>\n",
       "  </tbody>\n",
       "</table>\n",
       "<p>5 rows × 23 columns</p>\n",
       "</div>"
      ],
      "text/plain": [
       "             internet_service_type_id  payment_type_id  contract_type_id  \\\n",
       "customer_id                                                                \n",
       "2794-XIMMO                          1                1                 2   \n",
       "2851-STERV                          1                1                 2   \n",
       "2898-LSJGD                          1                1                 2   \n",
       "2969-WGHQO                          1                1                 2   \n",
       "2988-PLAHS                          1                1                 2   \n",
       "\n",
       "             gender  senior_citizen partner dependents  tenure phone_service  \\\n",
       "customer_id                                                                    \n",
       "2794-XIMMO     Male               0     Yes         No      53            No   \n",
       "2851-STERV     Male               1      No         No      35           Yes   \n",
       "2898-LSJGD   Female               0     Yes        Yes      21            No   \n",
       "2969-WGHQO   Female               0     Yes        Yes       7           Yes   \n",
       "2988-PLAHS   Female               0      No         No       3           Yes   \n",
       "\n",
       "               multiple_lines  ... tech_support streaming_tv streaming_movies  \\\n",
       "customer_id                    ...                                              \n",
       "2794-XIMMO   No phone service  ...          Yes          Yes              Yes   \n",
       "2851-STERV                 No  ...          Yes          Yes              Yes   \n",
       "2898-LSJGD   No phone service  ...           No          Yes              Yes   \n",
       "2969-WGHQO                 No  ...           No          Yes               No   \n",
       "2988-PLAHS                 No  ...           No          Yes              Yes   \n",
       "\n",
       "            paperless_billing monthly_charges total_charges churn  \\\n",
       "customer_id                                                         \n",
       "2794-XIMMO                Yes           60.45       3184.25   Yes   \n",
       "2851-STERV                Yes           73.00       2471.25    No   \n",
       "2898-LSJGD                Yes           55.95       1157.05   Yes   \n",
       "2969-WGHQO                 No           69.45        477.05    No   \n",
       "2988-PLAHS                Yes           69.95        220.45    No   \n",
       "\n",
       "             contract_type      payment_type internet_service_type  \n",
       "customer_id                                                         \n",
       "2794-XIMMO        One year  Electronic check                   DSL  \n",
       "2851-STERV        One year  Electronic check                   DSL  \n",
       "2898-LSJGD        One year  Electronic check                   DSL  \n",
       "2969-WGHQO        One year  Electronic check                   DSL  \n",
       "2988-PLAHS        One year  Electronic check                   DSL  \n",
       "\n",
       "[5 rows x 23 columns]"
      ]
     },
     "execution_count": 6,
     "metadata": {},
     "output_type": "execute_result"
    }
   ],
   "source": [
    "df.head(5)"
   ]
  },
  {
   "cell_type": "code",
   "execution_count": 10,
   "id": "18fd587a",
   "metadata": {},
   "outputs": [
    {
     "data": {
      "text/plain": [
       "0    2058\n",
       "5    1121\n",
       "1    1047\n",
       "2     876\n",
       "4     820\n",
       "3     748\n",
       "6     362\n",
       "Name: tenure_years, dtype: int64"
      ]
     },
     "execution_count": 10,
     "metadata": {},
     "output_type": "execute_result"
    }
   ],
   "source": [
    "df.tenure_years.value_counts()"
   ]
  },
  {
   "cell_type": "code",
   "execution_count": 11,
   "id": "960f1a9c",
   "metadata": {},
   "outputs": [
    {
     "name": "stdout",
     "output_type": "stream",
     "text": [
      "<class 'pandas.core.frame.DataFrame'>\n",
      "Index: 7032 entries, 2794-XIMMO to 9764-REAFF\n",
      "Data columns (total 24 columns):\n",
      " #   Column                    Non-Null Count  Dtype  \n",
      "---  ------                    --------------  -----  \n",
      " 0   internet_service_type_id  7032 non-null   int64  \n",
      " 1   payment_type_id           7032 non-null   int64  \n",
      " 2   contract_type_id          7032 non-null   int64  \n",
      " 3   gender                    7032 non-null   object \n",
      " 4   senior_citizen            7032 non-null   int64  \n",
      " 5   partner                   7032 non-null   object \n",
      " 6   dependents                7032 non-null   object \n",
      " 7   tenure                    7032 non-null   int64  \n",
      " 8   phone_service             7032 non-null   object \n",
      " 9   multiple_lines            7032 non-null   object \n",
      " 10  online_security           7032 non-null   object \n",
      " 11  online_backup             7032 non-null   object \n",
      " 12  device_protection         7032 non-null   object \n",
      " 13  tech_support              7032 non-null   object \n",
      " 14  streaming_tv              7032 non-null   object \n",
      " 15  streaming_movies          7032 non-null   object \n",
      " 16  paperless_billing         7032 non-null   object \n",
      " 17  monthly_charges           7032 non-null   float64\n",
      " 18  total_charges             7032 non-null   float64\n",
      " 19  churn                     7032 non-null   object \n",
      " 20  contract_type             7032 non-null   object \n",
      " 21  payment_type              7032 non-null   object \n",
      " 22  internet_service_type     7032 non-null   object \n",
      " 23  tenure_years              7032 non-null   object \n",
      "dtypes: float64(2), int64(5), object(17)\n",
      "memory usage: 1.3+ MB\n"
     ]
    }
   ],
   "source": [
    "# Validate our data types\n",
    "\n",
    "df.info()"
   ]
  },
  {
   "cell_type": "markdown",
   "id": "01dbbb32",
   "metadata": {},
   "source": [
    "### 1. Make sure to perform a train, validate, test split before and use only your train dataset to explore the relationships between independent variables with other independent variables or independent variables with your target variable."
   ]
  },
  {
   "cell_type": "code",
   "execution_count": 12,
   "id": "321886c5",
   "metadata": {},
   "outputs": [
    {
     "ename": "NameError",
     "evalue": "name 'wrangle' is not defined",
     "output_type": "error",
     "traceback": [
      "\u001b[0;31m---------------------------------------------------------------------------\u001b[0m",
      "\u001b[0;31mNameError\u001b[0m                                 Traceback (most recent call last)",
      "\u001b[0;32m<ipython-input-12-583006f299e9>\u001b[0m in \u001b[0;36m<module>\u001b[0;34m\u001b[0m\n\u001b[1;32m      1\u001b[0m \u001b[0;31m# Split into train, validate, and test sets.\u001b[0m\u001b[0;34m\u001b[0m\u001b[0;34m\u001b[0m\u001b[0;34m\u001b[0m\u001b[0m\n\u001b[1;32m      2\u001b[0m \u001b[0;34m\u001b[0m\u001b[0m\n\u001b[0;32m----> 3\u001b[0;31m \u001b[0mtrain\u001b[0m\u001b[0;34m,\u001b[0m \u001b[0mvalidate\u001b[0m\u001b[0;34m,\u001b[0m \u001b[0mtest\u001b[0m \u001b[0;34m=\u001b[0m \u001b[0mwrangle\u001b[0m\u001b[0;34m.\u001b[0m\u001b[0msplit_continuous\u001b[0m\u001b[0;34m(\u001b[0m\u001b[0mdf\u001b[0m\u001b[0;34m)\u001b[0m\u001b[0;34m\u001b[0m\u001b[0;34m\u001b[0m\u001b[0m\n\u001b[0m",
      "\u001b[0;31mNameError\u001b[0m: name 'wrangle' is not defined"
     ]
    }
   ],
   "source": [
    "# Split into train, validate, and test sets.\n",
    "\n",
    "train, validate, test = wrangle.split_continuous(df)"
   ]
  },
  {
   "cell_type": "code",
   "execution_count": 15,
   "id": "ea978c2b",
   "metadata": {},
   "outputs": [],
   "source": [
    "telco_cols = ['monthly_charges', 'tenure', 'total_charges']\n",
    "descriptive = {'monthly_charges': 'Monthly Charges ($)',\n",
    "               'tenure': 'Tenure (months)',\n",
    "               'total_charges': 'Total Charges ($)',\n",
    "               'tenure_years': 'Tenure (years)',\n",
    "              '':''}"
   ]
  },
  {
   "cell_type": "code",
   "execution_count": 14,
   "id": "930519be",
   "metadata": {},
   "outputs": [
    {
     "data": {
      "image/png": "[encoded data removed]",
      "text/plain": [
       "<Figure size 360x360 with 1 Axes>"
      ]
     },
     "metadata": {
      "needs_background": "light"
     },
     "output_type": "display_data"
    }
   ],
   "source": [
    "sns.displot(x = 'tenure', data=df)\n",
    "plt.title('tenure in months')\n",
    "plt.show()"
   ]
  },
  {
   "cell_type": "code",
   "execution_count": 16,
   "id": "8610cdb8",
   "metadata": {},
   "outputs": [
    {
     "data": {
      "image/png": "[encoded data removed]",
      "text/plain": [
       "<Figure size 360x360 with 1 Axes>"
      ]
     },
     "metadata": {
      "needs_background": "light"
     },
     "output_type": "display_data"
    }
   ],
   "source": [
    "sns.displot(x = 'monthly_charges', data=df)\n",
    "plt.title('monthly_charges')\n",
    "plt.show()"
   ]
  },
  {
   "cell_type": "markdown",
   "id": "24729c75",
   "metadata": {},
   "source": [
    "### 2. Write a function named plot_variable_pairs that accepts a dataframe as input and plots all of the pairwise relationships along with the regression line for each pair."
   ]
  },
  {
   "cell_type": "code",
   "execution_count": null,
   "id": "294983c1",
   "metadata": {},
   "outputs": [],
   "source": [
    "def plot_variable_pairs(train, cols, descriptive=None, hue=None):\n",
    "    '''\n",
    "    This function takes in a df, a list of cols to plot, and default hue=None \n",
    "    and displays a pairplot with a red regression line. If passed a descriptive\n",
    "    dictionary, converts axis titles to the corresponding names.\n",
    "    '''\n",
    "    # sets line-plot options and scatter-plot options\n",
    "    keyword_arguments={'line_kws':{'color':'red'}, 'scatter_kws': {'alpha': 0.1}}\n",
    "    \n",
    "    # creates pairplot object\n",
    "    pairplot = sns.pairplot(train[cols], hue=hue, kind=\"reg\",\\\n",
    "            plot_kws=keyword_arguments)\n",
    "    \n",
    "    # if passed a descriptive dictionary, iterates through matplotlib axes\n",
    "    # in our pairplot object and sets their axis labels to the corresponding \n",
    "    # strings.\n",
    "    if descriptive:\n",
    "        for ax in pairplot.axes.flat:\n",
    "            ax.set_xlabel(descriptive[ax.get_xlabel()])\n",
    "            ax.set_ylabel(descriptive[ax.get_ylabel()])\n",
    "    \n",
    "    # Adds a super-title\n",
    "    pairplot.fig.suptitle('Correlation of Continuous Variables', y=1.08)\n",
    "    plt.show()"
   ]
  },
  {
   "cell_type": "code",
   "execution_count": 17,
   "id": "130e9937",
   "metadata": {},
   "outputs": [
    {
     "ename": "NameError",
     "evalue": "name 'train' is not defined",
     "output_type": "error",
     "traceback": [
      "\u001b[0;31m---------------------------------------------------------------------------\u001b[0m",
      "\u001b[0;31mNameError\u001b[0m                                 Traceback (most recent call last)",
      "\u001b[0;32m<ipython-input-17-d18b95625086>\u001b[0m in \u001b[0;36m<module>\u001b[0;34m\u001b[0m\n\u001b[0;32m----> 1\u001b[0;31m \u001b[0mpairplot\u001b[0m \u001b[0;34m=\u001b[0m \u001b[0msns\u001b[0m\u001b[0;34m.\u001b[0m\u001b[0mpairplot\u001b[0m\u001b[0;34m(\u001b[0m\u001b[0mtrain\u001b[0m\u001b[0;34m[\u001b[0m\u001b[0mtelco_cols\u001b[0m\u001b[0;34m]\u001b[0m\u001b[0;34m)\u001b[0m\u001b[0;34m\u001b[0m\u001b[0;34m\u001b[0m\u001b[0m\n\u001b[0m\u001b[1;32m      2\u001b[0m \u001b[0mpairplot\u001b[0m\u001b[0;34m\u001b[0m\u001b[0;34m\u001b[0m\u001b[0m\n",
      "\u001b[0;31mNameError\u001b[0m: name 'train' is not defined"
     ]
    }
   ],
   "source": [
    "pairplot = sns.pairplot(train[telco_cols])\n",
    "pairplot"
   ]
  },
  {
   "cell_type": "code",
   "execution_count": 18,
   "id": "fa5cc726",
   "metadata": {},
   "outputs": [
    {
     "ename": "NameError",
     "evalue": "name 'pairplot' is not defined",
     "output_type": "error",
     "traceback": [
      "\u001b[0;31m---------------------------------------------------------------------------\u001b[0m",
      "\u001b[0;31mNameError\u001b[0m                                 Traceback (most recent call last)",
      "\u001b[0;32m<ipython-input-18-da30d8c6428c>\u001b[0m in \u001b[0;36m<module>\u001b[0;34m\u001b[0m\n\u001b[0;32m----> 1\u001b[0;31m \u001b[0;32mfor\u001b[0m \u001b[0mi\u001b[0m \u001b[0;32min\u001b[0m \u001b[0mpairplot\u001b[0m\u001b[0;34m.\u001b[0m\u001b[0maxes\u001b[0m\u001b[0;34m.\u001b[0m\u001b[0mflat\u001b[0m\u001b[0;34m:\u001b[0m\u001b[0;34m\u001b[0m\u001b[0;34m\u001b[0m\u001b[0m\n\u001b[0m\u001b[1;32m      2\u001b[0m     \u001b[0mprint\u001b[0m\u001b[0;34m(\u001b[0m\u001b[0mi\u001b[0m\u001b[0;34m)\u001b[0m\u001b[0;34m\u001b[0m\u001b[0;34m\u001b[0m\u001b[0m\n",
      "\u001b[0;31mNameError\u001b[0m: name 'pairplot' is not defined"
     ]
    }
   ],
   "source": [
    "for i in pairplot.axes.flat:\n",
    "    print(i)"
   ]
  },
  {
   "cell_type": "code",
   "execution_count": 19,
   "id": "4384e49b",
   "metadata": {},
   "outputs": [
    {
     "ename": "NameError",
     "evalue": "name 'plot_variable_pairs' is not defined",
     "output_type": "error",
     "traceback": [
      "\u001b[0;31m---------------------------------------------------------------------------\u001b[0m",
      "\u001b[0;31mNameError\u001b[0m                                 Traceback (most recent call last)",
      "\u001b[0;32m<ipython-input-19-3f61b573b6d9>\u001b[0m in \u001b[0;36m<module>\u001b[0;34m\u001b[0m\n\u001b[0;32m----> 1\u001b[0;31m \u001b[0mplot_variable_pairs\u001b[0m\u001b[0;34m(\u001b[0m\u001b[0mtrain\u001b[0m\u001b[0;34m,\u001b[0m \u001b[0mtelco_cols\u001b[0m\u001b[0;34m,\u001b[0m \u001b[0mdescriptive\u001b[0m\u001b[0;34m)\u001b[0m\u001b[0;34m\u001b[0m\u001b[0;34m\u001b[0m\u001b[0m\n\u001b[0m",
      "\u001b[0;31mNameError\u001b[0m: name 'plot_variable_pairs' is not defined"
     ]
    }
   ],
   "source": [
    "plot_variable_pairs(train, telco_cols, descriptive)"
   ]
  },
  {
   "cell_type": "code",
   "execution_count": 20,
   "id": "4faaa25b",
   "metadata": {},
   "outputs": [],
   "source": [
    "def plot_pairplot(train, cols, descriptive=None, hue=None):\n",
    "    '''\n",
    "    Take in train df, list of columns to plot, and hue=None\n",
    "    and display scatter plots and hists.\n",
    "    '''\n",
    "    pairplot = sns.pairplot(train[cols], corner=True)\n",
    "    pairplot.axes.flat[0].set_ylabel(cols[0])\n",
    "    if descriptive:\n",
    "        for ax in pairplot.axes.flat:\n",
    "            if ax:\n",
    "                ax.set_xlabel(descriptive[ax.get_xlabel()])\n",
    "                ax.set_ylabel(descriptive[ax.get_ylabel()])\n",
    "    pairplot.fig.suptitle('Correlation of Continuous Variables', y=1.08)\n",
    "    plt.show()"
   ]
  },
  {
   "cell_type": "code",
   "execution_count": 21,
   "id": "3487da00",
   "metadata": {},
   "outputs": [
    {
     "ename": "NameError",
     "evalue": "name 'train' is not defined",
     "output_type": "error",
     "traceback": [
      "\u001b[0;31m---------------------------------------------------------------------------\u001b[0m",
      "\u001b[0;31mNameError\u001b[0m                                 Traceback (most recent call last)",
      "\u001b[0;32m<ipython-input-21-066c2c707d2a>\u001b[0m in \u001b[0;36m<module>\u001b[0;34m\u001b[0m\n\u001b[0;32m----> 1\u001b[0;31m \u001b[0mplot_pairplot\u001b[0m\u001b[0;34m(\u001b[0m\u001b[0mtrain\u001b[0m\u001b[0;34m,\u001b[0m \u001b[0mtelco_cols\u001b[0m\u001b[0;34m,\u001b[0m \u001b[0mdescriptive\u001b[0m\u001b[0;34m=\u001b[0m\u001b[0mdescriptive\u001b[0m\u001b[0;34m)\u001b[0m\u001b[0;34m\u001b[0m\u001b[0;34m\u001b[0m\u001b[0m\n\u001b[0m",
      "\u001b[0;31mNameError\u001b[0m: name 'train' is not defined"
     ]
    }
   ],
   "source": [
    "plot_pairplot(train, telco_cols, descriptive=descriptive)"
   ]
  },
  {
   "cell_type": "markdown",
   "id": "4e616b27",
   "metadata": {},
   "source": [
    "### Heatmap"
   ]
  },
  {
   "cell_type": "code",
   "execution_count": null,
   "id": "3a4a095f",
   "metadata": {},
   "outputs": [],
   "source": [
    "train[telco_cols].corr()"
   ]
  },
  {
   "cell_type": "code",
   "execution_count": null,
   "id": "38294790",
   "metadata": {},
   "outputs": [],
   "source": [
    "def create_heatmap(train, cols, descriptive=None):\n",
    "    corr_matrix = train[cols].corr()\n",
    "    \n",
    "    kwargs = {'alpha':.9,'linewidth':3, 'linestyle':'-', \n",
    "          'linecolor':'k','rasterized':False, 'edgecolor':'w', \n",
    "          'capstyle':'projecting',}\n",
    "    labels = pd.Series(cols)\n",
    "    if descriptive:\n",
    "        labels = labels.map(descriptive)\n",
    "    plt.figure(figsize=(8,6))\n",
    "    heatmap = sns.heatmap(corr_matrix, cmap='Purples', annot=True, \\\n",
    "                          xticklabels=labels, yticklabels=labels, **kwargs)\n",
    "    plt.ylim(0, 3)\n",
    "    plt.title('Correlation of Continuous Variables')\n",
    "    plt.show()"
   ]
  },
  {
   "cell_type": "code",
   "execution_count": null,
   "id": "8a8f0282",
   "metadata": {},
   "outputs": [],
   "source": [
    "create_heatmap(train, telco_cols, descriptive)"
   ]
  },
  {
   "cell_type": "markdown",
   "id": "bf8ee8db",
   "metadata": {},
   "source": [
    "### Convert Data Types"
   ]
  },
  {
   "cell_type": "code",
   "execution_count": null,
   "id": "7a1f32b5",
   "metadata": {},
   "outputs": [],
   "source": [
    "train['tenure_years'] = train.tenure_years.astype('object')\n",
    "validate['tenure_years'] = validate.tenure_years.astype('object')\n",
    "test['tenure_years'] = test.tenure_years.astype('object')"
   ]
  },
  {
   "cell_type": "code",
   "execution_count": null,
   "id": "f2d67df0",
   "metadata": {},
   "outputs": [],
   "source": [
    "train.info()"
   ]
  },
  {
   "cell_type": "markdown",
   "id": "7a880591",
   "metadata": {},
   "source": [
    "### 3. Write a function named months_to_years that accepts your telco churn dataframe and returns a dataframe with a new feature tenure_years, in complete years as a customer.\n"
   ]
  },
  {
   "cell_type": "code",
   "execution_count": 8,
   "id": "331f464f",
   "metadata": {},
   "outputs": [],
   "source": [
    "def months_to_years(df):\n",
    "    \"\"\"\n",
    "    Takes in the telco df and returns the df with new \n",
    "    categorical feature 'tenure_years'\n",
    "    \"\"\"\n",
    "    df['tenure_years'] = round(df.tenure // 12)\n",
    "    df['tenure_years'] = df.tenure_years.astype('object')\n",
    "    return df"
   ]
  },
  {
   "cell_type": "code",
   "execution_count": 9,
   "id": "2688ed68",
   "metadata": {},
   "outputs": [
    {
     "data": {
      "text/html": [
       "<div>\n",
       "<style scoped>\n",
       "    .dataframe tbody tr th:only-of-type {\n",
       "        vertical-align: middle;\n",
       "    }\n",
       "\n",
       "    .dataframe tbody tr th {\n",
       "        vertical-align: top;\n",
       "    }\n",
       "\n",
       "    .dataframe thead th {\n",
       "        text-align: right;\n",
       "    }\n",
       "</style>\n",
       "<table border=\"1\" class=\"dataframe\">\n",
       "  <thead>\n",
       "    <tr style=\"text-align: right;\">\n",
       "      <th></th>\n",
       "      <th>internet_service_type_id</th>\n",
       "      <th>payment_type_id</th>\n",
       "      <th>contract_type_id</th>\n",
       "      <th>gender</th>\n",
       "      <th>senior_citizen</th>\n",
       "      <th>partner</th>\n",
       "      <th>dependents</th>\n",
       "      <th>tenure</th>\n",
       "      <th>phone_service</th>\n",
       "      <th>multiple_lines</th>\n",
       "      <th>...</th>\n",
       "      <th>streaming_tv</th>\n",
       "      <th>streaming_movies</th>\n",
       "      <th>paperless_billing</th>\n",
       "      <th>monthly_charges</th>\n",
       "      <th>total_charges</th>\n",
       "      <th>churn</th>\n",
       "      <th>contract_type</th>\n",
       "      <th>payment_type</th>\n",
       "      <th>internet_service_type</th>\n",
       "      <th>tenure_years</th>\n",
       "    </tr>\n",
       "    <tr>\n",
       "      <th>customer_id</th>\n",
       "      <th></th>\n",
       "      <th></th>\n",
       "      <th></th>\n",
       "      <th></th>\n",
       "      <th></th>\n",
       "      <th></th>\n",
       "      <th></th>\n",
       "      <th></th>\n",
       "      <th></th>\n",
       "      <th></th>\n",
       "      <th></th>\n",
       "      <th></th>\n",
       "      <th></th>\n",
       "      <th></th>\n",
       "      <th></th>\n",
       "      <th></th>\n",
       "      <th></th>\n",
       "      <th></th>\n",
       "      <th></th>\n",
       "      <th></th>\n",
       "      <th></th>\n",
       "    </tr>\n",
       "  </thead>\n",
       "  <tbody>\n",
       "    <tr>\n",
       "      <th>2794-XIMMO</th>\n",
       "      <td>1</td>\n",
       "      <td>1</td>\n",
       "      <td>2</td>\n",
       "      <td>Male</td>\n",
       "      <td>0</td>\n",
       "      <td>Yes</td>\n",
       "      <td>No</td>\n",
       "      <td>53</td>\n",
       "      <td>No</td>\n",
       "      <td>No phone service</td>\n",
       "      <td>...</td>\n",
       "      <td>Yes</td>\n",
       "      <td>Yes</td>\n",
       "      <td>Yes</td>\n",
       "      <td>60.45</td>\n",
       "      <td>3184.25</td>\n",
       "      <td>Yes</td>\n",
       "      <td>One year</td>\n",
       "      <td>Electronic check</td>\n",
       "      <td>DSL</td>\n",
       "      <td>4</td>\n",
       "    </tr>\n",
       "    <tr>\n",
       "      <th>2851-STERV</th>\n",
       "      <td>1</td>\n",
       "      <td>1</td>\n",
       "      <td>2</td>\n",
       "      <td>Male</td>\n",
       "      <td>1</td>\n",
       "      <td>No</td>\n",
       "      <td>No</td>\n",
       "      <td>35</td>\n",
       "      <td>Yes</td>\n",
       "      <td>No</td>\n",
       "      <td>...</td>\n",
       "      <td>Yes</td>\n",
       "      <td>Yes</td>\n",
       "      <td>Yes</td>\n",
       "      <td>73.00</td>\n",
       "      <td>2471.25</td>\n",
       "      <td>No</td>\n",
       "      <td>One year</td>\n",
       "      <td>Electronic check</td>\n",
       "      <td>DSL</td>\n",
       "      <td>2</td>\n",
       "    </tr>\n",
       "    <tr>\n",
       "      <th>2898-LSJGD</th>\n",
       "      <td>1</td>\n",
       "      <td>1</td>\n",
       "      <td>2</td>\n",
       "      <td>Female</td>\n",
       "      <td>0</td>\n",
       "      <td>Yes</td>\n",
       "      <td>Yes</td>\n",
       "      <td>21</td>\n",
       "      <td>No</td>\n",
       "      <td>No phone service</td>\n",
       "      <td>...</td>\n",
       "      <td>Yes</td>\n",
       "      <td>Yes</td>\n",
       "      <td>Yes</td>\n",
       "      <td>55.95</td>\n",
       "      <td>1157.05</td>\n",
       "      <td>Yes</td>\n",
       "      <td>One year</td>\n",
       "      <td>Electronic check</td>\n",
       "      <td>DSL</td>\n",
       "      <td>1</td>\n",
       "    </tr>\n",
       "    <tr>\n",
       "      <th>2969-WGHQO</th>\n",
       "      <td>1</td>\n",
       "      <td>1</td>\n",
       "      <td>2</td>\n",
       "      <td>Female</td>\n",
       "      <td>0</td>\n",
       "      <td>Yes</td>\n",
       "      <td>Yes</td>\n",
       "      <td>7</td>\n",
       "      <td>Yes</td>\n",
       "      <td>No</td>\n",
       "      <td>...</td>\n",
       "      <td>Yes</td>\n",
       "      <td>No</td>\n",
       "      <td>No</td>\n",
       "      <td>69.45</td>\n",
       "      <td>477.05</td>\n",
       "      <td>No</td>\n",
       "      <td>One year</td>\n",
       "      <td>Electronic check</td>\n",
       "      <td>DSL</td>\n",
       "      <td>0</td>\n",
       "    </tr>\n",
       "    <tr>\n",
       "      <th>2988-PLAHS</th>\n",
       "      <td>1</td>\n",
       "      <td>1</td>\n",
       "      <td>2</td>\n",
       "      <td>Female</td>\n",
       "      <td>0</td>\n",
       "      <td>No</td>\n",
       "      <td>No</td>\n",
       "      <td>3</td>\n",
       "      <td>Yes</td>\n",
       "      <td>No</td>\n",
       "      <td>...</td>\n",
       "      <td>Yes</td>\n",
       "      <td>Yes</td>\n",
       "      <td>Yes</td>\n",
       "      <td>69.95</td>\n",
       "      <td>220.45</td>\n",
       "      <td>No</td>\n",
       "      <td>One year</td>\n",
       "      <td>Electronic check</td>\n",
       "      <td>DSL</td>\n",
       "      <td>0</td>\n",
       "    </tr>\n",
       "  </tbody>\n",
       "</table>\n",
       "<p>5 rows × 24 columns</p>\n",
       "</div>"
      ],
      "text/plain": [
       "             internet_service_type_id  payment_type_id  contract_type_id  \\\n",
       "customer_id                                                                \n",
       "2794-XIMMO                          1                1                 2   \n",
       "2851-STERV                          1                1                 2   \n",
       "2898-LSJGD                          1                1                 2   \n",
       "2969-WGHQO                          1                1                 2   \n",
       "2988-PLAHS                          1                1                 2   \n",
       "\n",
       "             gender  senior_citizen partner dependents  tenure phone_service  \\\n",
       "customer_id                                                                    \n",
       "2794-XIMMO     Male               0     Yes         No      53            No   \n",
       "2851-STERV     Male               1      No         No      35           Yes   \n",
       "2898-LSJGD   Female               0     Yes        Yes      21            No   \n",
       "2969-WGHQO   Female               0     Yes        Yes       7           Yes   \n",
       "2988-PLAHS   Female               0      No         No       3           Yes   \n",
       "\n",
       "               multiple_lines  ... streaming_tv streaming_movies  \\\n",
       "customer_id                    ...                                 \n",
       "2794-XIMMO   No phone service  ...          Yes              Yes   \n",
       "2851-STERV                 No  ...          Yes              Yes   \n",
       "2898-LSJGD   No phone service  ...          Yes              Yes   \n",
       "2969-WGHQO                 No  ...          Yes               No   \n",
       "2988-PLAHS                 No  ...          Yes              Yes   \n",
       "\n",
       "            paperless_billing monthly_charges total_charges churn  \\\n",
       "customer_id                                                         \n",
       "2794-XIMMO                Yes           60.45       3184.25   Yes   \n",
       "2851-STERV                Yes           73.00       2471.25    No   \n",
       "2898-LSJGD                Yes           55.95       1157.05   Yes   \n",
       "2969-WGHQO                 No           69.45        477.05    No   \n",
       "2988-PLAHS                Yes           69.95        220.45    No   \n",
       "\n",
       "            contract_type      payment_type  internet_service_type  \\\n",
       "customer_id                                                          \n",
       "2794-XIMMO       One year  Electronic check                    DSL   \n",
       "2851-STERV       One year  Electronic check                    DSL   \n",
       "2898-LSJGD       One year  Electronic check                    DSL   \n",
       "2969-WGHQO       One year  Electronic check                    DSL   \n",
       "2988-PLAHS       One year  Electronic check                    DSL   \n",
       "\n",
       "            tenure_years  \n",
       "customer_id               \n",
       "2794-XIMMO             4  \n",
       "2851-STERV             2  \n",
       "2898-LSJGD             1  \n",
       "2969-WGHQO             0  \n",
       "2988-PLAHS             0  \n",
       "\n",
       "[5 rows x 24 columns]"
      ]
     },
     "execution_count": 9,
     "metadata": {},
     "output_type": "execute_result"
    }
   ],
   "source": [
    "df = months_to_years(df)\n",
    "df.head()"
   ]
  },
  {
   "cell_type": "markdown",
   "id": "7937b0fe",
   "metadata": {},
   "source": [
    "### 4. Write a function named plot_categorical_and_continuous_vars that accepts your dataframe and the name of the columns that hold the continuous and categorical features and outputs 3 different plots for visualizing a categorical variable and a continuous variable.\n",
    "\n",
    "- For Example: tenure_years with total_charges.\n",
    "- For ideas on effective ways to visualize categorical with continuous: https://datavizcatalogue.com/. You can then look into seaborn and matplotlib documentation for ways to create plots."
   ]
  },
  {
   "cell_type": "code",
   "execution_count": 22,
   "id": "48b16976",
   "metadata": {},
   "outputs": [],
   "source": [
    "def plot_categorical_and_continuous_vars(categorical_vars, continuous_vars, df, descriptive=None):\n",
    "    \"\"\"\n",
    "    This function that takes in a string name of a categorical variable, \n",
    "    a string name from a continuous variable and the df they live in and\n",
    "    displays 4 different plots.\n",
    "    \"\"\"\n",
    "    for categorical_var in categorical_vars:\n",
    "        for continuous_var in continuous_vars:\n",
    "            categorical_label = categorical_var\n",
    "            continuous_label = continuous_var\n",
    "\n",
    "            if descriptive:\n",
    "                categorical_label = descriptive[categorical_var]\n",
    "                continuous_label = descriptive[continuous_var]\n",
    "                \n",
    "            fig, axes = plt.subplots(figsize=(12,36), nrows=4,ncols=1)\n",
    "            fig.suptitle(f'{continuous_label} by {categorical_label}', fontsize=18, y=1.02)\n",
    "\n",
    "            sns.lineplot(ax=axes[0], x=categorical_var, y=continuous_var, data=df)\n",
    "            axes[0].set_title('Line Plot', fontsize=14)\n",
    "            axes[0].set_xlabel(categorical_label, fontsize=12)\n",
    "            axes[0].set_ylabel(continuous_label, fontsize=12)\n",
    "            \n",
    "            sns.boxplot(ax=axes[1], x=categorical_var, y=continuous_var, data=df,\\\n",
    "                        color='blue')\n",
    "            axes[1].set_title('Box-and-Whiskers Plot', fontsize=14)\n",
    "            axes[1].set_xlabel(categorical_label, fontsize=12)\n",
    "            axes[1].set_ylabel(continuous_label, fontsize=12)\n",
    "            \n",
    "            sns.swarmplot(ax=axes[2], x=categorical_var, y=continuous_var, data=df,\\\n",
    "                        palette='Blues')\n",
    "            axes[2].set_title('Swarm Plot', fontsize=14)\n",
    "            axes[2].set_xlabel(categorical_label, fontsize=12)\n",
    "            axes[2].set_ylabel(continuous_label, fontsize=12)\n",
    "            \n",
    "            sns.barplot(ax=axes[3], x=categorical_var, y=continuous_var, data=df,\\\n",
    "                        palette='Purples')\n",
    "            axes[3].set_title('Bar Plot', fontsize=14)\n",
    "            axes[3].set_xlabel(categorical_label, fontsize=12)\n",
    "            axes[3].set_ylabel(continuous_label, fontsize=12)\n",
    "            \n",
    "            plt.tight_layout()\n",
    "\n",
    "            plt.show()"
   ]
  },
  {
   "cell_type": "code",
   "execution_count": 23,
   "id": "3885343f",
   "metadata": {},
   "outputs": [
    {
     "ename": "NameError",
     "evalue": "name 'train' is not defined",
     "output_type": "error",
     "traceback": [
      "\u001b[0;31m---------------------------------------------------------------------------\u001b[0m",
      "\u001b[0;31mNameError\u001b[0m                                 Traceback (most recent call last)",
      "\u001b[0;32m<ipython-input-23-b5a0c8fe6ffc>\u001b[0m in \u001b[0;36m<module>\u001b[0;34m\u001b[0m\n\u001b[1;32m      1\u001b[0m plot_categorical_and_continuous_vars(['tenure_years'], \\\n\u001b[0;32m----> 2\u001b[0;31m                     \u001b[0mtrain\u001b[0m\u001b[0;34m.\u001b[0m\u001b[0mdrop\u001b[0m\u001b[0;34m(\u001b[0m\u001b[0mcolumns\u001b[0m\u001b[0;34m=\u001b[0m\u001b[0;34m[\u001b[0m\u001b[0;34m'customer_id'\u001b[0m\u001b[0;34m,\u001b[0m \u001b[0;34m'tenure_years'\u001b[0m\u001b[0;34m,\u001b[0m \u001b[0;34m'tenure'\u001b[0m\u001b[0;34m]\u001b[0m\u001b[0;34m)\u001b[0m\u001b[0;34m.\u001b[0m\u001b[0mcolumns\u001b[0m\u001b[0;34m,\u001b[0m\u001b[0;31m\\\u001b[0m\u001b[0;34m\u001b[0m\u001b[0;34m\u001b[0m\u001b[0m\n\u001b[0m\u001b[1;32m      3\u001b[0m                     train, descriptive)\n",
      "\u001b[0;31mNameError\u001b[0m: name 'train' is not defined"
     ]
    }
   ],
   "source": [
    "plot_categorical_and_continuous_vars(['tenure_years'], \\\n",
    "                    train.drop(columns=['customer_id', 'tenure_years', 'tenure']).columns,\\\n",
    "                    train, descriptive)"
   ]
  },
  {
   "cell_type": "markdown",
   "id": "f7c6ae7c",
   "metadata": {},
   "source": [
    "### Object Oriented Approach, subplots method\n",
    "- figure is the container holding our plots\n",
    "- axes are the actual plots\n",
    "- so our plot can contain more than one axis"
   ]
  },
  {
   "cell_type": "code",
   "execution_count": 24,
   "id": "aba91372",
   "metadata": {},
   "outputs": [],
   "source": [
    "def plot_categorical_and_continuous_vars_telco(df, descriptive=None):  \n",
    "    fig, (ax1, ax2, ax3) = plt.subplots(figsize=(12,10), nrows=3,ncols=1, sharex=True)\n",
    "    plt.style.use('seaborn-bright')\n",
    "\n",
    "    plt.suptitle('Total Charges by Tenure Years', fontsize=18)\n",
    "\n",
    "    ax1.plot(df.tenure_years, df.total_charges, color='mediumblue')\n",
    "    ax1.set_ylabel('US Dollars', fontsize=14)\n",
    "\n",
    "    ax2.bar(df.tenure_years, df.total_charges, color='dodgerblue')\n",
    "    ax2.set_ylabel('US Dollars', fontsize=14)\n",
    "\n",
    "    ax3.scatter(df.tenure_years, df.total_charges, color='skyblue')\n",
    "    ax3.set_xlabel('Tenure in Years', fontsize=14)\n",
    "    ax3.set_ylabel('US Dollars', fontsize=14)\n",
    "\n",
    "    plt.tight_layout()\n",
    "    plt.show()"
   ]
  },
  {
   "cell_type": "code",
   "execution_count": null,
   "id": "23a43561",
   "metadata": {},
   "outputs": [],
   "source": [
    "plot_categorical_and_continuous_vars_telco(df, descriptive)"
   ]
  },
  {
   "cell_type": "markdown",
   "id": "fe97bde9",
   "metadata": {},
   "source": [
    "### How about some pie?"
   ]
  },
  {
   "cell_type": "code",
   "execution_count": 25,
   "id": "d14c0762",
   "metadata": {},
   "outputs": [],
   "source": [
    "def telco_pie(train):\n",
    "    plt.style.use('seaborn-paper')\n",
    "    labels = ['0 years', '1 years', '2 years', '3 years', '4 years', '5 years', '6 years']\n",
    "    colors = ['dodgerblue', 'whitesmoke', 'whitesmoke', 'whitesmoke', 'whitesmoke', 'whitesmoke', 'whitesmoke']\n",
    "    explode = (0.1, 0, 0, 0, 0, 0, 0) \n",
    "    \n",
    "    plt.pie(train.tenure_years.value_counts(), explode=explode, colors=colors,\\\n",
    "            labels = labels, autopct='%1.0f%%', shadow=True, textprops={'fontsize':14},\\\n",
    "            wedgeprops={'edgecolor': 'black', 'width': 0.6})\n",
    "    plt.title('Percent of Accounts by Tenure Years', fontsize=18)\n",
    "    plt.show()"
   ]
  },
  {
   "cell_type": "code",
   "execution_count": null,
   "id": "0625fd3e",
   "metadata": {},
   "outputs": [],
   "source": [
    "telco_pie(train)"
   ]
  },
  {
   "cell_type": "markdown",
   "id": "b1e64d1f",
   "metadata": {},
   "source": [
    "### Correlation Function "
   ]
  },
  {
   "cell_type": "code",
   "execution_count": 26,
   "id": "3bdc14d9",
   "metadata": {},
   "outputs": [],
   "source": [
    "def correlation_exploration(train, x_string, y_string):\n",
    "    '''\n",
    "    This function takes in a df, a string for an x-axis variable in the df, \n",
    "    and a string for a y-axis variable in the df and displays a scatter plot, the r-\n",
    "    squared value, and the p-value. It explores the correlation between input the x \n",
    "    and y variables.\n",
    "    '''\n",
    "    r, p = stats.pearsonr(train[x_string], train[y_string])\n",
    "    df.plot.scatter(x_string, y_string)\n",
    "    plt.title(f\"{x_string}'s Relationship with {y_string}\")\n",
    "    print(f'The p-value is: {p}. There is {round(p,3)}% chance that we see these results by chance.')\n",
    "    print(f'r = {round(r, 2)}')\n",
    "    plt.show()"
   ]
  },
  {
   "cell_type": "code",
   "execution_count": null,
   "id": "3b8b0baa",
   "metadata": {},
   "outputs": [],
   "source": [
    "correlation_exploration(train, 'tenure', 'total_charges')"
   ]
  },
  {
   "cell_type": "markdown",
   "id": "7d4db3dc",
   "metadata": {},
   "source": [
    "### 5. Save the functions you have written to create visualizations in your explore.py file. Rewrite your notebook code so that you are using the functions imported from this file."
   ]
  },
  {
   "cell_type": "code",
   "execution_count": null,
   "id": "2cb91a65",
   "metadata": {},
   "outputs": [],
   "source": []
  }
 ],
 "metadata": {
  "kernelspec": {
   "display_name": "Python 3.8.8 64-bit ('base': conda)",
   "language": "python",
   "name": "python388jvsc74a57bd0b64057e63add2b45b1ffc7eab9b09c8889b419c878e2fdf0d08f837f0fc857a7"
  },
  "language_info": {
   "codemirror_mode": {
    "name": "ipython",
    "version": 3
   },
   "file_extension": ".py",
   "mimetype": "text/x-python",
   "name": "python",
   "nbconvert_exporter": "python",
   "pygments_lexer": "ipython3",
   "version": "3.8.8"
  }
 },
 "nbformat": 4,
 "nbformat_minor": 5
}
