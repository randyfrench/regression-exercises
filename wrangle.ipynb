{
 "cells": [
  {
   "cell_type": "markdown",
   "id": "8fc4a80e",
   "metadata": {},
   "source": [
    "# Regression\n",
    "## Acquisition and Prep \n",
    "\n",
    "As a Codeup data science graduate, you want to show off your skills to the Zillow data science team in hopes of getting an interview for a position you saw pop up on LinkedIn. You thought it might look impressive to build an end-to-end project in which you use some of their Kaggle data to predict property values using some of their available features; who knows, you might even do some feature engineering to blow them away.\n",
    "Your goal is to predict the values of single unit properties using the obervations from 2017.\n",
    "\n",
    "In these exercises, you will complete the first step toward the above goal: acquire and prepare the necessary Zillow data from the zillow database in the Codeup database server.\n",
    "\n",
    "\n",
    "Using your acquired Zillow data, walk through the summarization and cleaning steps in your wrangle.ipynb file like we did above. You may handle the missing values however you feel is appropriate and meaninful; remember to document your process and decisions using markdown and code commenting where helpful.\n",
    "\n",
    "Store all of the necessary functions to automate your process from acquiring the data to returning a cleaned dataframe witn no missing values in your wrangle.py file. Name your final function wrangle_zillow.\n",
    "\n",
    "### Exercises II"
   ]
  },
  {
   "cell_type": "code",
   "execution_count": 1,
   "id": "97d0b206",
   "metadata": {},
   "outputs": [],
   "source": [
    "import warnings\n",
    "warnings.filterwarnings(\"ignore\")\n",
    "\n",
    "import pandas as pd\n",
    "import matplotlib.pyplot as plt\n",
    "import seaborn as sns\n",
    "import numpy as np\n",
    "\n",
    "from sklearn.model_selection import train_test_split\n",
    "from sklearn.impute import SimpleImputer\n",
    "\n",
    "import acquire"
   ]
  },
  {
   "cell_type": "markdown",
   "id": "6220a92b",
   "metadata": {},
   "source": [
    "## 1. Acquire bedroomcnt, bathroomcnt, calculatedfinishedsquarefeet, taxvaluedollarcnt, yearbuilt, taxamount, and fips from the zillow database for all 'Single Family Residential' properties."
   ]
  },
  {
   "cell_type": "code",
   "execution_count": 4,
   "id": "03cea6f7",
   "metadata": {},
   "outputs": [],
   "source": [
    "df = acquire.new_zillow_data()"
   ]
  },
  {
   "cell_type": "code",
   "execution_count": 5,
   "id": "218676fb",
   "metadata": {},
   "outputs": [
    {
     "data": {
      "text/html": [
       "<div>\n",
       "<style scoped>\n",
       "    .dataframe tbody tr th:only-of-type {\n",
       "        vertical-align: middle;\n",
       "    }\n",
       "\n",
       "    .dataframe tbody tr th {\n",
       "        vertical-align: top;\n",
       "    }\n",
       "\n",
       "    .dataframe thead th {\n",
       "        text-align: right;\n",
       "    }\n",
       "</style>\n",
       "<table border=\"1\" class=\"dataframe\">\n",
       "  <thead>\n",
       "    <tr style=\"text-align: right;\">\n",
       "      <th></th>\n",
       "      <th>bedroomcnt</th>\n",
       "      <th>bathroomcnt</th>\n",
       "      <th>calculatedfinishedsquarefeet</th>\n",
       "      <th>taxvaluedollarcnt</th>\n",
       "      <th>yearbuilt</th>\n",
       "      <th>taxamount</th>\n",
       "      <th>fips</th>\n",
       "    </tr>\n",
       "  </thead>\n",
       "  <tbody>\n",
       "    <tr>\n",
       "      <th>0</th>\n",
       "      <td>0.0</td>\n",
       "      <td>0.0</td>\n",
       "      <td>NaN</td>\n",
       "      <td>27516.0</td>\n",
       "      <td>NaN</td>\n",
       "      <td>NaN</td>\n",
       "      <td>6037.0</td>\n",
       "    </tr>\n",
       "    <tr>\n",
       "      <th>1</th>\n",
       "      <td>0.0</td>\n",
       "      <td>0.0</td>\n",
       "      <td>NaN</td>\n",
       "      <td>10.0</td>\n",
       "      <td>NaN</td>\n",
       "      <td>NaN</td>\n",
       "      <td>6037.0</td>\n",
       "    </tr>\n",
       "    <tr>\n",
       "      <th>2</th>\n",
       "      <td>0.0</td>\n",
       "      <td>0.0</td>\n",
       "      <td>NaN</td>\n",
       "      <td>10.0</td>\n",
       "      <td>NaN</td>\n",
       "      <td>NaN</td>\n",
       "      <td>6037.0</td>\n",
       "    </tr>\n",
       "    <tr>\n",
       "      <th>3</th>\n",
       "      <td>0.0</td>\n",
       "      <td>0.0</td>\n",
       "      <td>NaN</td>\n",
       "      <td>2108.0</td>\n",
       "      <td>NaN</td>\n",
       "      <td>174.21</td>\n",
       "      <td>6037.0</td>\n",
       "    </tr>\n",
       "    <tr>\n",
       "      <th>4</th>\n",
       "      <td>4.0</td>\n",
       "      <td>2.0</td>\n",
       "      <td>3633.0</td>\n",
       "      <td>296425.0</td>\n",
       "      <td>2005.0</td>\n",
       "      <td>6941.39</td>\n",
       "      <td>6037.0</td>\n",
       "    </tr>\n",
       "  </tbody>\n",
       "</table>\n",
       "</div>"
      ],
      "text/plain": [
       "   bedroomcnt  bathroomcnt  calculatedfinishedsquarefeet  taxvaluedollarcnt  \\\n",
       "0         0.0          0.0                           NaN            27516.0   \n",
       "1         0.0          0.0                           NaN               10.0   \n",
       "2         0.0          0.0                           NaN               10.0   \n",
       "3         0.0          0.0                           NaN             2108.0   \n",
       "4         4.0          2.0                        3633.0           296425.0   \n",
       "\n",
       "   yearbuilt  taxamount    fips  \n",
       "0        NaN        NaN  6037.0  \n",
       "1        NaN        NaN  6037.0  \n",
       "2        NaN        NaN  6037.0  \n",
       "3        NaN     174.21  6037.0  \n",
       "4     2005.0    6941.39  6037.0  "
      ]
     },
     "execution_count": 5,
     "metadata": {},
     "output_type": "execute_result"
    }
   ],
   "source": [
    "df.head()"
   ]
  },
  {
   "cell_type": "code",
   "execution_count": 6,
   "id": "26a6e92c",
   "metadata": {},
   "outputs": [
    {
     "data": {
      "text/plain": [
       "(2152863, 7)"
      ]
     },
     "execution_count": 6,
     "metadata": {},
     "output_type": "execute_result"
    }
   ],
   "source": [
    "df.shape"
   ]
  },
  {
   "cell_type": "markdown",
   "id": "7c839550",
   "metadata": {},
   "source": [
    "## 2. Using your acquired Zillow data, walk through the summarization and cleaning steps in your wrangle.ipynb file like we did above. You may handle the missing values however you feel is appropriate and meaninful; remember to document your process and decisions using markdown and code commenting where helpful.\n",
    "\n",
    "### Do I like the column names?"
   ]
  },
  {
   "cell_type": "code",
   "execution_count": 7,
   "id": "f98e1a0b",
   "metadata": {},
   "outputs": [
    {
     "data": {
      "text/plain": [
       "Index(['bedroomcnt', 'bathroomcnt', 'calculatedfinishedsquarefeet',\n",
       "       'taxvaluedollarcnt', 'yearbuilt', 'taxamount', 'fips'],\n",
       "      dtype='object')"
      ]
     },
     "execution_count": 7,
     "metadata": {},
     "output_type": "execute_result"
    }
   ],
   "source": [
    "# check the column names\n",
    "df.columns"
   ]
  },
  {
   "cell_type": "code",
   "execution_count": 8,
   "id": "85a28ce3",
   "metadata": {},
   "outputs": [],
   "source": [
    "# renaming columns\n",
    "df = df.rename(columns = {'bedroomcnt':'bedrooms', \n",
    "                          'bathroomcnt':'bathrooms', \n",
    "                          'calculatedfinishedsquarefeet':'sqft',\n",
    "                          'taxvaluedollarcnt':'tax_value', \n",
    "                          'yearbuilt':'year_built'})"
   ]
  },
  {
   "cell_type": "code",
   "execution_count": 9,
   "id": "86530938",
   "metadata": {},
   "outputs": [
    {
     "data": {
      "text/html": [
       "<div>\n",
       "<style scoped>\n",
       "    .dataframe tbody tr th:only-of-type {\n",
       "        vertical-align: middle;\n",
       "    }\n",
       "\n",
       "    .dataframe tbody tr th {\n",
       "        vertical-align: top;\n",
       "    }\n",
       "\n",
       "    .dataframe thead th {\n",
       "        text-align: right;\n",
       "    }\n",
       "</style>\n",
       "<table border=\"1\" class=\"dataframe\">\n",
       "  <thead>\n",
       "    <tr style=\"text-align: right;\">\n",
       "      <th></th>\n",
       "      <th>bedrooms</th>\n",
       "      <th>bathrooms</th>\n",
       "      <th>square_feet</th>\n",
       "      <th>tax_value</th>\n",
       "      <th>year_built</th>\n",
       "      <th>taxamount</th>\n",
       "      <th>fips</th>\n",
       "    </tr>\n",
       "  </thead>\n",
       "  <tbody>\n",
       "    <tr>\n",
       "      <th>0</th>\n",
       "      <td>0.0</td>\n",
       "      <td>0.0</td>\n",
       "      <td>NaN</td>\n",
       "      <td>27516.0</td>\n",
       "      <td>NaN</td>\n",
       "      <td>NaN</td>\n",
       "      <td>6037.0</td>\n",
       "    </tr>\n",
       "    <tr>\n",
       "      <th>1</th>\n",
       "      <td>0.0</td>\n",
       "      <td>0.0</td>\n",
       "      <td>NaN</td>\n",
       "      <td>10.0</td>\n",
       "      <td>NaN</td>\n",
       "      <td>NaN</td>\n",
       "      <td>6037.0</td>\n",
       "    </tr>\n",
       "    <tr>\n",
       "      <th>2</th>\n",
       "      <td>0.0</td>\n",
       "      <td>0.0</td>\n",
       "      <td>NaN</td>\n",
       "      <td>10.0</td>\n",
       "      <td>NaN</td>\n",
       "      <td>NaN</td>\n",
       "      <td>6037.0</td>\n",
       "    </tr>\n",
       "    <tr>\n",
       "      <th>3</th>\n",
       "      <td>0.0</td>\n",
       "      <td>0.0</td>\n",
       "      <td>NaN</td>\n",
       "      <td>2108.0</td>\n",
       "      <td>NaN</td>\n",
       "      <td>174.21</td>\n",
       "      <td>6037.0</td>\n",
       "    </tr>\n",
       "    <tr>\n",
       "      <th>4</th>\n",
       "      <td>4.0</td>\n",
       "      <td>2.0</td>\n",
       "      <td>3633.0</td>\n",
       "      <td>296425.0</td>\n",
       "      <td>2005.0</td>\n",
       "      <td>6941.39</td>\n",
       "      <td>6037.0</td>\n",
       "    </tr>\n",
       "  </tbody>\n",
       "</table>\n",
       "</div>"
      ],
      "text/plain": [
       "   bedrooms  bathrooms  square_feet  tax_value  year_built  taxamount    fips\n",
       "0       0.0        0.0          NaN    27516.0         NaN        NaN  6037.0\n",
       "1       0.0        0.0          NaN       10.0         NaN        NaN  6037.0\n",
       "2       0.0        0.0          NaN       10.0         NaN        NaN  6037.0\n",
       "3       0.0        0.0          NaN     2108.0         NaN     174.21  6037.0\n",
       "4       4.0        2.0       3633.0   296425.0      2005.0    6941.39  6037.0"
      ]
     },
     "execution_count": 9,
     "metadata": {},
     "output_type": "execute_result"
    }
   ],
   "source": [
    "df.head()"
   ]
  },
  {
   "cell_type": "markdown",
   "id": "9b3d22bd",
   "metadata": {},
   "source": [
    "# Variable Distributions\n",
    "\n",
    "*********************************************************\n",
    "\n",
    "### Histographs"
   ]
  },
  {
   "cell_type": "code",
   "execution_count": 10,
   "id": "fc8c2873",
   "metadata": {},
   "outputs": [
    {
     "data": {
      "image/png": "[encoded data removed]",
      "text/plain": [
       "<Figure size 1152x216 with 5 Axes>"
      ]
     },
     "metadata": {
      "needs_background": "light"
     },
     "output_type": "display_data"
    }
   ],
   "source": [
    "plt.figure(figsize=(16, 3))\n",
    "\n",
    "# List of columns\n",
    "cols = [col for col in df.columns if col not in ['fips', 'year_built']]\n",
    "\n",
    "for i, col in enumerate(cols):\n",
    "\n",
    "    # i starts at 0, but plot nos should start at 1\n",
    "    plot_number = i + 1 \n",
    "\n",
    "    # Create subplot.\n",
    "    plt.subplot(1, len(cols), plot_number)\n",
    "\n",
    "    # Title with column name.\n",
    "    plt.title(col)\n",
    "\n",
    "    # Display histogram for column.\n",
    "    df[col].hist(bins=5)\n",
    "\n",
    "    # Hide gridlines.\n",
    "    plt.grid(False)\n",
    "    \n",
    "    # turn off scientific notation\n",
    "    plt.ticklabel_format(useOffset=False)\n",
    "    \n",
    "plt.show()"
   ]
  },
  {
   "cell_type": "markdown",
   "id": "79f532de",
   "metadata": {},
   "source": [
    "### Boxplot"
   ]
  },
  {
   "cell_type": "code",
   "execution_count": 11,
   "id": "1989549a",
   "metadata": {},
   "outputs": [
    {
     "data": {
      "image/png": "[encoded data removed]",
      "text/plain": [
       "<Figure size 576x288 with 1 Axes>"
      ]
     },
     "metadata": {
      "needs_background": "light"
     },
     "output_type": "display_data"
    }
   ],
   "source": [
    "plt.figure(figsize=(8,4))\n",
    "\n",
    "plt.ticklabel_format(useOffset=False, style='plain')\n",
    "sns.boxplot(data=df.drop(columns=['fips']))\n",
    "\n",
    "plt.show()"
   ]
  },
  {
   "cell_type": "markdown",
   "id": "623c5ab1",
   "metadata": {},
   "source": [
    "## Takeaways for both sets of charts\n",
    "- Extream outliers exist in the data and need to be removed\n",
    "- Im going to use the iqr rule to remove outliers"
   ]
  },
  {
   "cell_type": "code",
   "execution_count": 12,
   "id": "9008ffd3",
   "metadata": {},
   "outputs": [],
   "source": [
    "def remove_outliers(df, k, col_list):\n",
    "    ''' remove outliers from a list of columns in a dataframe \n",
    "        and return that dataframe\n",
    "    '''\n",
    "    \n",
    "    for col in col_list:\n",
    "\n",
    "        q1, q3 = df[col].quantile([.25, .75])  # get quartiles\n",
    "        \n",
    "        iqr = q3 - q1   # calculate interquartile range\n",
    "        \n",
    "        upper_bound = q3 + k * iqr   # get upper bound\n",
    "        lower_bound = q1 - k * iqr   # get lower bound\n",
    "\n",
    "        # return dataframe without outliers\n",
    "        \n",
    "        df = df[(df[col] > lower_bound) & (df[col] < upper_bound)]\n",
    "        \n",
    "    return df"
   ]
  },
  {
   "cell_type": "code",
   "execution_count": 13,
   "id": "28822e5a",
   "metadata": {},
   "outputs": [
    {
     "data": {
      "text/html": [
       "<div>\n",
       "<style scoped>\n",
       "    .dataframe tbody tr th:only-of-type {\n",
       "        vertical-align: middle;\n",
       "    }\n",
       "\n",
       "    .dataframe tbody tr th {\n",
       "        vertical-align: top;\n",
       "    }\n",
       "\n",
       "    .dataframe thead th {\n",
       "        text-align: right;\n",
       "    }\n",
       "</style>\n",
       "<table border=\"1\" class=\"dataframe\">\n",
       "  <thead>\n",
       "    <tr style=\"text-align: right;\">\n",
       "      <th></th>\n",
       "      <th>bedrooms</th>\n",
       "      <th>bathrooms</th>\n",
       "      <th>square_feet</th>\n",
       "      <th>tax_value</th>\n",
       "      <th>year_built</th>\n",
       "      <th>taxamount</th>\n",
       "      <th>fips</th>\n",
       "    </tr>\n",
       "  </thead>\n",
       "  <tbody>\n",
       "    <tr>\n",
       "      <th>6</th>\n",
       "      <td>3.0</td>\n",
       "      <td>4.0</td>\n",
       "      <td>1620.0</td>\n",
       "      <td>847770.0</td>\n",
       "      <td>2011.0</td>\n",
       "      <td>10244.94</td>\n",
       "      <td>6037.0</td>\n",
       "    </tr>\n",
       "    <tr>\n",
       "      <th>7</th>\n",
       "      <td>3.0</td>\n",
       "      <td>2.0</td>\n",
       "      <td>2077.0</td>\n",
       "      <td>646760.0</td>\n",
       "      <td>1926.0</td>\n",
       "      <td>7924.68</td>\n",
       "      <td>6037.0</td>\n",
       "    </tr>\n",
       "    <tr>\n",
       "      <th>18</th>\n",
       "      <td>3.0</td>\n",
       "      <td>1.0</td>\n",
       "      <td>1244.0</td>\n",
       "      <td>169471.0</td>\n",
       "      <td>1950.0</td>\n",
       "      <td>2532.88</td>\n",
       "      <td>6037.0</td>\n",
       "    </tr>\n",
       "    <tr>\n",
       "      <th>19</th>\n",
       "      <td>3.0</td>\n",
       "      <td>2.0</td>\n",
       "      <td>1300.0</td>\n",
       "      <td>233266.0</td>\n",
       "      <td>1950.0</td>\n",
       "      <td>3110.99</td>\n",
       "      <td>6037.0</td>\n",
       "    </tr>\n",
       "    <tr>\n",
       "      <th>20</th>\n",
       "      <td>3.0</td>\n",
       "      <td>2.0</td>\n",
       "      <td>1222.0</td>\n",
       "      <td>290492.0</td>\n",
       "      <td>1951.0</td>\n",
       "      <td>3870.25</td>\n",
       "      <td>6037.0</td>\n",
       "    </tr>\n",
       "    <tr>\n",
       "      <th>...</th>\n",
       "      <td>...</td>\n",
       "      <td>...</td>\n",
       "      <td>...</td>\n",
       "      <td>...</td>\n",
       "      <td>...</td>\n",
       "      <td>...</td>\n",
       "      <td>...</td>\n",
       "    </tr>\n",
       "    <tr>\n",
       "      <th>2152852</th>\n",
       "      <td>3.0</td>\n",
       "      <td>2.0</td>\n",
       "      <td>1917.0</td>\n",
       "      <td>408680.0</td>\n",
       "      <td>1946.0</td>\n",
       "      <td>4341.32</td>\n",
       "      <td>6111.0</td>\n",
       "    </tr>\n",
       "    <tr>\n",
       "      <th>2152853</th>\n",
       "      <td>4.0</td>\n",
       "      <td>2.0</td>\n",
       "      <td>1987.0</td>\n",
       "      <td>259913.0</td>\n",
       "      <td>1955.0</td>\n",
       "      <td>3175.66</td>\n",
       "      <td>6059.0</td>\n",
       "    </tr>\n",
       "    <tr>\n",
       "      <th>2152855</th>\n",
       "      <td>3.0</td>\n",
       "      <td>2.5</td>\n",
       "      <td>1809.0</td>\n",
       "      <td>405547.0</td>\n",
       "      <td>2012.0</td>\n",
       "      <td>4181.10</td>\n",
       "      <td>6059.0</td>\n",
       "    </tr>\n",
       "    <tr>\n",
       "      <th>2152861</th>\n",
       "      <td>3.0</td>\n",
       "      <td>2.5</td>\n",
       "      <td>1974.0</td>\n",
       "      <td>424353.0</td>\n",
       "      <td>2015.0</td>\n",
       "      <td>5302.70</td>\n",
       "      <td>6059.0</td>\n",
       "    </tr>\n",
       "    <tr>\n",
       "      <th>2152862</th>\n",
       "      <td>4.0</td>\n",
       "      <td>4.0</td>\n",
       "      <td>2110.0</td>\n",
       "      <td>554009.0</td>\n",
       "      <td>2014.0</td>\n",
       "      <td>6761.20</td>\n",
       "      <td>6037.0</td>\n",
       "    </tr>\n",
       "  </tbody>\n",
       "</table>\n",
       "<p>1855285 rows × 7 columns</p>\n",
       "</div>"
      ],
      "text/plain": [
       "         bedrooms  bathrooms  square_feet  tax_value  year_built  taxamount  \\\n",
       "6             3.0        4.0       1620.0   847770.0      2011.0   10244.94   \n",
       "7             3.0        2.0       2077.0   646760.0      1926.0    7924.68   \n",
       "18            3.0        1.0       1244.0   169471.0      1950.0    2532.88   \n",
       "19            3.0        2.0       1300.0   233266.0      1950.0    3110.99   \n",
       "20            3.0        2.0       1222.0   290492.0      1951.0    3870.25   \n",
       "...           ...        ...          ...        ...         ...        ...   \n",
       "2152852       3.0        2.0       1917.0   408680.0      1946.0    4341.32   \n",
       "2152853       4.0        2.0       1987.0   259913.0      1955.0    3175.66   \n",
       "2152855       3.0        2.5       1809.0   405547.0      2012.0    4181.10   \n",
       "2152861       3.0        2.5       1974.0   424353.0      2015.0    5302.70   \n",
       "2152862       4.0        4.0       2110.0   554009.0      2014.0    6761.20   \n",
       "\n",
       "           fips  \n",
       "6        6037.0  \n",
       "7        6037.0  \n",
       "18       6037.0  \n",
       "19       6037.0  \n",
       "20       6037.0  \n",
       "...         ...  \n",
       "2152852  6111.0  \n",
       "2152853  6059.0  \n",
       "2152855  6059.0  \n",
       "2152861  6059.0  \n",
       "2152862  6037.0  \n",
       "\n",
       "[1855285 rows x 7 columns]"
      ]
     },
     "execution_count": 13,
     "metadata": {},
     "output_type": "execute_result"
    }
   ],
   "source": [
    "df = remove_outliers(df, 1.5, ['bedrooms', 'bathrooms', 'sqft', 'tax_value', 'taxamount'])\n",
    "df"
   ]
  },
  {
   "cell_type": "code",
   "execution_count": 14,
   "id": "cad5b049",
   "metadata": {},
   "outputs": [
    {
     "data": {
      "image/png": "[encoded data removed]",
      "text/plain": [
       "<Figure size 1152x216 with 5 Axes>"
      ]
     },
     "metadata": {
      "needs_background": "light"
     },
     "output_type": "display_data"
    }
   ],
   "source": [
    "plt.figure(figsize=(16, 3))\n",
    "\n",
    "# List of columns\n",
    "cols = [col for col in df.columns if col not in ['fips', 'year_built']]\n",
    "\n",
    "for i, col in enumerate(cols):\n",
    "\n",
    "    # i starts at 0, but plot nos should start at 1\n",
    "    plot_number = i + 1 \n",
    "\n",
    "    # Create subplot.\n",
    "    plt.subplot(1, len(cols), plot_number)\n",
    "\n",
    "    # Title with column name.\n",
    "    plt.title(col)\n",
    "\n",
    "    # Display histogram for column.\n",
    "    df[col].hist(bins=5)\n",
    "\n",
    "    # Hide gridlines.\n",
    "    plt.grid(False)\n",
    "    \n",
    "    # turn off scientific notation\n",
    "    plt.ticklabel_format(useOffset=False)\n",
    "    \n",
    "    # mitigate overlap\n",
    "    plt.tight_layout()\n",
    "    \n",
    "plt.show()"
   ]
  },
  {
   "cell_type": "markdown",
   "id": "6453358f",
   "metadata": {},
   "source": [
    "### Takeaways\n",
    "- Bedrooms, bathrooms, and squre_feet are not normally distributed "
   ]
  },
  {
   "cell_type": "code",
   "execution_count": 15,
   "id": "2feab039",
   "metadata": {},
   "outputs": [
    {
     "data": {
      "image/png": "[encoded data removed]",
      "text/plain": [
       "<Figure size 1152x216 with 5 Axes>"
      ]
     },
     "metadata": {
      "needs_background": "light"
     },
     "output_type": "display_data"
    }
   ],
   "source": [
    "# List of columns\n",
    "cols = ['bedrooms', 'bathrooms', 'square_feet', 'tax_value', 'taxamount']\n",
    "\n",
    "plt.figure(figsize=(16, 3))\n",
    "\n",
    "for i, col in enumerate(cols):\n",
    "\n",
    "    # i starts at 0, but plot should start at 1\n",
    "    plot_number = i + 1 \n",
    "\n",
    "    # Create subplot.\n",
    "    plt.subplot(1, len(cols), plot_number)\n",
    "\n",
    "    # Title with column name.\n",
    "    plt.title(col)\n",
    "\n",
    "    # Display boxplot for column.\n",
    "    sns.boxplot(data=df[[col]])\n",
    "\n",
    "    # Hide gridlines.\n",
    "    plt.grid(False)\n",
    "\n",
    "    # sets proper spacing between plots\n",
    "    plt.tight_layout()\n",
    "    \n",
    "plt.show()"
   ]
  },
  {
   "cell_type": "markdown",
   "id": "559ff5cc",
   "metadata": {},
   "source": [
    "### Takeaways\n",
    "- some exstream values are still present in the data\n",
    "***************************************************************************************\n",
    "## Prepare\n",
    "- Are there any null values?"
   ]
  },
  {
   "cell_type": "code",
   "execution_count": 16,
   "id": "d89a6900",
   "metadata": {},
   "outputs": [
    {
     "data": {
      "text/plain": [
       "bedrooms         0\n",
       "bathrooms        0\n",
       "square_feet      0\n",
       "tax_value        0\n",
       "year_built     874\n",
       "taxamount        0\n",
       "fips             0\n",
       "dtype: int64"
      ]
     },
     "execution_count": 16,
     "metadata": {},
     "output_type": "execute_result"
    }
   ],
   "source": [
    "# get total of null values for each row\n",
    "df.isnull().sum()"
   ]
  },
  {
   "cell_type": "code",
   "execution_count": 17,
   "id": "e79dd6ed",
   "metadata": {},
   "outputs": [
    {
     "data": {
      "text/plain": [
       "1955.0    80451\n",
       "1950.0    66876\n",
       "1954.0    65523\n",
       "1953.0    58746\n",
       "1956.0    58054\n",
       "          ...  \n",
       "1855.0        1\n",
       "1874.0        1\n",
       "1807.0        1\n",
       "1833.0        1\n",
       "1823.0        1\n",
       "Name: year_built, Length: 152, dtype: int64"
      ]
     },
     "execution_count": 17,
     "metadata": {},
     "output_type": "execute_result"
    }
   ],
   "source": [
    "# consider imputing year built\n",
    "df.year_built.value_counts()"
   ]
  },
  {
   "cell_type": "markdown",
   "id": "50d178bf",
   "metadata": {},
   "source": [
    "- because of the small number of missing rows I plan to impute year_built with the most frequent year after the data is split\n",
    "\n",
    "*********************************************************************************************************\n",
    "## Are the column data types correct? "
   ]
  },
  {
   "cell_type": "code",
   "execution_count": 18,
   "id": "0dfcf09d",
   "metadata": {},
   "outputs": [
    {
     "name": "stdout",
     "output_type": "stream",
     "text": [
      "<class 'pandas.core.frame.DataFrame'>\n",
      "Int64Index: 1855285 entries, 6 to 2152862\n",
      "Data columns (total 7 columns):\n",
      " #   Column       Dtype  \n",
      "---  ------       -----  \n",
      " 0   bedrooms     float64\n",
      " 1   bathrooms    float64\n",
      " 2   square_feet  float64\n",
      " 3   tax_value    float64\n",
      " 4   year_built   float64\n",
      " 5   taxamount    float64\n",
      " 6   fips         float64\n",
      "dtypes: float64(7)\n",
      "memory usage: 113.2 MB\n"
     ]
    }
   ],
   "source": [
    "df.info()"
   ]
  },
  {
   "cell_type": "code",
   "execution_count": 19,
   "id": "19fb0859",
   "metadata": {},
   "outputs": [
    {
     "name": "stdout",
     "output_type": "stream",
     "text": [
      "BEDROOMS\n",
      "3.0    905249\n",
      "4.0    539886\n",
      "2.0    320685\n",
      "5.0     89465\n",
      "Name: bedrooms, dtype: int64\n",
      "~~~~~~~~~~~~~~~~~~~~~~~~~~~~~~~~~~~~\n",
      "\n",
      "BATHROOMS\n",
      "2.00    909673\n",
      "1.00    385962\n",
      "3.00    352086\n",
      "2.50    132451\n",
      "4.00     31976\n",
      "1.50     30752\n",
      "3.50     12382\n",
      "1.75         3\n",
      "Name: bathrooms, dtype: int64\n",
      "~~~~~~~~~~~~~~~~~~~~~~~~~~~~~~~~~~~~\n",
      "\n",
      "SQUARE_FEET\n",
      "1200.0    5091\n",
      "1080.0    4318\n",
      "1120.0    4287\n",
      "1400.0    3776\n",
      "1440.0    3618\n",
      "          ... \n",
      "404.0        1\n",
      "430.0        1\n",
      "471.0        1\n",
      "317.0        1\n",
      "462.0        1\n",
      "Name: square_feet, Length: 3015, dtype: int64\n",
      "~~~~~~~~~~~~~~~~~~~~~~~~~~~~~~~~~~~~\n",
      "\n",
      "TAX_VALUE\n",
      "450000.0    806\n",
      "500000.0    754\n",
      "400000.0    701\n",
      "430000.0    677\n",
      "475000.0    671\n",
      "           ... \n",
      "877774.0      1\n",
      "172618.0      1\n",
      "581746.0      1\n",
      "205760.0      1\n",
      "366635.0      1\n",
      "Name: tax_value, Length: 457592, dtype: int64\n",
      "~~~~~~~~~~~~~~~~~~~~~~~~~~~~~~~~~~~~\n",
      "\n",
      "YEAR_BUILT\n",
      "1955.0    80451\n",
      "1950.0    66876\n",
      "1954.0    65523\n",
      "1953.0    58746\n",
      "1956.0    58054\n",
      "          ...  \n",
      "1855.0        1\n",
      "1874.0        1\n",
      "1807.0        1\n",
      "1833.0        1\n",
      "1823.0        1\n",
      "Name: year_built, Length: 152, dtype: int64\n",
      "~~~~~~~~~~~~~~~~~~~~~~~~~~~~~~~~~~~~\n",
      "\n",
      "TAXAMOUNT\n",
      "345.72     164\n",
      "344.18      71\n",
      "343.52      65\n",
      "49.18       45\n",
      "388.18      36\n",
      "          ... \n",
      "481.90       1\n",
      "7149.75      1\n",
      "4100.14      1\n",
      "1316.23      1\n",
      "1451.43      1\n",
      "Name: taxamount, Length: 710276, dtype: int64\n",
      "~~~~~~~~~~~~~~~~~~~~~~~~~~~~~~~~~~~~\n",
      "\n",
      "FIPS\n",
      "6037.0    1241655\n",
      "6059.0     468335\n",
      "6111.0     145295\n",
      "Name: fips, dtype: int64\n",
      "~~~~~~~~~~~~~~~~~~~~~~~~~~~~~~~~~~~~\n",
      "\n"
     ]
    }
   ],
   "source": [
    "# get value counts and decide on data types\n",
    "cols = df.columns\n",
    "\n",
    "for col in cols:\n",
    "    \n",
    "    print(col.upper())\n",
    "    print(df[col].value_counts())\n",
    "    print('~~~~~~~~~~~~~~~~~~~~~~~~~~~~~~~~~~~~')\n",
    "    print()"
   ]
  },
  {
   "cell_type": "markdown",
   "id": "f1f491ae",
   "metadata": {},
   "source": [
    "- casting fips and year built as an object because it is a numerical representation of a catagorical value\n",
    "leaving the rest as floats"
   ]
  },
  {
   "cell_type": "code",
   "execution_count": 20,
   "id": "39133d9f",
   "metadata": {},
   "outputs": [],
   "source": [
    "df.fips = df.fips.astype(object)\n",
    "df.year_built = df.year_built.astype(object)"
   ]
  },
  {
   "cell_type": "code",
   "execution_count": 21,
   "id": "3a5016c2",
   "metadata": {},
   "outputs": [
    {
     "name": "stdout",
     "output_type": "stream",
     "text": [
      "<class 'pandas.core.frame.DataFrame'>\n",
      "Int64Index: 1855285 entries, 6 to 2152862\n",
      "Data columns (total 7 columns):\n",
      " #   Column       Dtype  \n",
      "---  ------       -----  \n",
      " 0   bedrooms     float64\n",
      " 1   bathrooms    float64\n",
      " 2   square_feet  float64\n",
      " 3   tax_value    float64\n",
      " 4   year_built   object \n",
      " 5   taxamount    float64\n",
      " 6   fips         object \n",
      "dtypes: float64(5), object(2)\n",
      "memory usage: 113.2+ MB\n"
     ]
    }
   ],
   "source": [
    "df.info()"
   ]
  },
  {
   "cell_type": "markdown",
   "id": "9f0b0733",
   "metadata": {},
   "source": [
    "## Do my columns contain target leak?\n",
    "- The way I interpret taxamount is that it is the amount of tax paid on the property\n",
    "- Because it would be impossible to calculate taxamount without first knowing the tax_value we will not have that knowledge at the time we are predicting tax_value\n",
    "- Therefore we cannot use taxamount to predict tax_value\n",
    "- I am dropping taxamount"
   ]
  },
  {
   "cell_type": "code",
   "execution_count": 22,
   "id": "195dbedf",
   "metadata": {},
   "outputs": [],
   "source": [
    "df = df.drop(columns=['taxamount'])"
   ]
  },
  {
   "cell_type": "markdown",
   "id": "360c4382",
   "metadata": {},
   "source": [
    "## Split the data "
   ]
  },
  {
   "cell_type": "code",
   "execution_count": 23,
   "id": "50208b99",
   "metadata": {},
   "outputs": [],
   "source": [
    "train_validate, test = train_test_split(df, test_size=.2, random_state=123)\n",
    "train, validate = train_test_split(train_validate, test_size=.3, random_state=123)"
   ]
  },
  {
   "cell_type": "markdown",
   "id": "f8ea78d5",
   "metadata": {},
   "source": [
    "### Impute year_built with mode "
   ]
  },
  {
   "cell_type": "code",
   "execution_count": 24,
   "id": "612a4072",
   "metadata": {},
   "outputs": [],
   "source": [
    "imputer = SimpleImputer(strategy='most_frequent')  # build imputer\n",
    "\n",
    "imputer.fit(train[['year_built']]) # fit to train\n",
    "\n",
    "# transform the data\n",
    "train[['year_built']] = imputer.transform(train[['year_built']])\n",
    "validate[['year_built']] = imputer.transform(validate[['year_built']])\n",
    "test[['year_built']] = imputer.transform(test[['year_built']])"
   ]
  },
  {
   "cell_type": "code",
   "execution_count": 25,
   "id": "18436c8a",
   "metadata": {},
   "outputs": [
    {
     "data": {
      "text/plain": [
       "bedrooms       0\n",
       "bathrooms      0\n",
       "square_feet    0\n",
       "tax_value      0\n",
       "year_built     0\n",
       "fips           0\n",
       "dtype: int64"
      ]
     },
     "execution_count": 25,
     "metadata": {},
     "output_type": "execute_result"
    }
   ],
   "source": [
    "train.isnull().sum()"
   ]
  },
  {
   "cell_type": "code",
   "execution_count": 26,
   "id": "ee6a25b9",
   "metadata": {},
   "outputs": [
    {
     "data": {
      "text/plain": [
       "bedrooms       0\n",
       "bathrooms      0\n",
       "square_feet    0\n",
       "tax_value      0\n",
       "year_built     0\n",
       "fips           0\n",
       "dtype: int64"
      ]
     },
     "execution_count": 26,
     "metadata": {},
     "output_type": "execute_result"
    }
   ],
   "source": [
    "validate.isnull().sum()"
   ]
  },
  {
   "cell_type": "code",
   "execution_count": 45,
   "id": "58590b3e",
   "metadata": {},
   "outputs": [
    {
     "data": {
      "text/plain": [
       "bedrooms       0\n",
       "bathrooms      0\n",
       "square_feet    0\n",
       "tax_value      0\n",
       "year_built     0\n",
       "fips           0\n",
       "dtype: int64"
      ]
     },
     "execution_count": 45,
     "metadata": {},
     "output_type": "execute_result"
    }
   ],
   "source": [
    "test.isnull().sum()"
   ]
  },
  {
   "cell_type": "code",
   "execution_count": 46,
   "id": "e9467486",
   "metadata": {},
   "outputs": [
    {
     "data": {
      "text/html": [
       "<div>\n",
       "<style scoped>\n",
       "    .dataframe tbody tr th:only-of-type {\n",
       "        vertical-align: middle;\n",
       "    }\n",
       "\n",
       "    .dataframe tbody tr th {\n",
       "        vertical-align: top;\n",
       "    }\n",
       "\n",
       "    .dataframe thead th {\n",
       "        text-align: right;\n",
       "    }\n",
       "</style>\n",
       "<table border=\"1\" class=\"dataframe\">\n",
       "  <thead>\n",
       "    <tr style=\"text-align: right;\">\n",
       "      <th></th>\n",
       "      <th>bedrooms</th>\n",
       "      <th>bathrooms</th>\n",
       "      <th>square_feet</th>\n",
       "      <th>tax_value</th>\n",
       "      <th>year_built</th>\n",
       "      <th>fips</th>\n",
       "    </tr>\n",
       "  </thead>\n",
       "  <tbody>\n",
       "    <tr>\n",
       "      <th>10057</th>\n",
       "      <td>4.0</td>\n",
       "      <td>2.0</td>\n",
       "      <td>1561.0</td>\n",
       "      <td>248240.0</td>\n",
       "      <td>1973.0</td>\n",
       "      <td>6059.0</td>\n",
       "    </tr>\n",
       "    <tr>\n",
       "      <th>2004969</th>\n",
       "      <td>3.0</td>\n",
       "      <td>2.0</td>\n",
       "      <td>1770.0</td>\n",
       "      <td>88390.0</td>\n",
       "      <td>1960.0</td>\n",
       "      <td>6037.0</td>\n",
       "    </tr>\n",
       "    <tr>\n",
       "      <th>306031</th>\n",
       "      <td>2.0</td>\n",
       "      <td>1.0</td>\n",
       "      <td>1452.0</td>\n",
       "      <td>81169.0</td>\n",
       "      <td>1946.0</td>\n",
       "      <td>6037.0</td>\n",
       "    </tr>\n",
       "    <tr>\n",
       "      <th>1038594</th>\n",
       "      <td>3.0</td>\n",
       "      <td>1.0</td>\n",
       "      <td>1000.0</td>\n",
       "      <td>119174.0</td>\n",
       "      <td>1950.0</td>\n",
       "      <td>6037.0</td>\n",
       "    </tr>\n",
       "    <tr>\n",
       "      <th>270959</th>\n",
       "      <td>3.0</td>\n",
       "      <td>2.0</td>\n",
       "      <td>1974.0</td>\n",
       "      <td>432268.0</td>\n",
       "      <td>1988.0</td>\n",
       "      <td>6037.0</td>\n",
       "    </tr>\n",
       "    <tr>\n",
       "      <th>...</th>\n",
       "      <td>...</td>\n",
       "      <td>...</td>\n",
       "      <td>...</td>\n",
       "      <td>...</td>\n",
       "      <td>...</td>\n",
       "      <td>...</td>\n",
       "    </tr>\n",
       "    <tr>\n",
       "      <th>991121</th>\n",
       "      <td>3.0</td>\n",
       "      <td>1.0</td>\n",
       "      <td>1199.0</td>\n",
       "      <td>280857.0</td>\n",
       "      <td>1951.0</td>\n",
       "      <td>6111.0</td>\n",
       "    </tr>\n",
       "    <tr>\n",
       "      <th>1707758</th>\n",
       "      <td>4.0</td>\n",
       "      <td>2.0</td>\n",
       "      <td>1859.0</td>\n",
       "      <td>95008.0</td>\n",
       "      <td>1961.0</td>\n",
       "      <td>6037.0</td>\n",
       "    </tr>\n",
       "    <tr>\n",
       "      <th>1770245</th>\n",
       "      <td>3.0</td>\n",
       "      <td>3.0</td>\n",
       "      <td>2132.0</td>\n",
       "      <td>158470.0</td>\n",
       "      <td>1980.0</td>\n",
       "      <td>6037.0</td>\n",
       "    </tr>\n",
       "    <tr>\n",
       "      <th>1500740</th>\n",
       "      <td>2.0</td>\n",
       "      <td>1.0</td>\n",
       "      <td>780.0</td>\n",
       "      <td>477167.0</td>\n",
       "      <td>1955.0</td>\n",
       "      <td>6037.0</td>\n",
       "    </tr>\n",
       "    <tr>\n",
       "      <th>843328</th>\n",
       "      <td>3.0</td>\n",
       "      <td>1.0</td>\n",
       "      <td>1132.0</td>\n",
       "      <td>285700.0</td>\n",
       "      <td>1916.0</td>\n",
       "      <td>6037.0</td>\n",
       "    </tr>\n",
       "  </tbody>\n",
       "</table>\n",
       "<p>1038959 rows × 6 columns</p>\n",
       "</div>"
      ],
      "text/plain": [
       "         bedrooms  bathrooms  square_feet  tax_value  year_built    fips\n",
       "10057         4.0        2.0       1561.0   248240.0      1973.0  6059.0\n",
       "2004969       3.0        2.0       1770.0    88390.0      1960.0  6037.0\n",
       "306031        2.0        1.0       1452.0    81169.0      1946.0  6037.0\n",
       "1038594       3.0        1.0       1000.0   119174.0      1950.0  6037.0\n",
       "270959        3.0        2.0       1974.0   432268.0      1988.0  6037.0\n",
       "...           ...        ...          ...        ...         ...     ...\n",
       "991121        3.0        1.0       1199.0   280857.0      1951.0  6111.0\n",
       "1707758       4.0        2.0       1859.0    95008.0      1961.0  6037.0\n",
       "1770245       3.0        3.0       2132.0   158470.0      1980.0  6037.0\n",
       "1500740       2.0        1.0        780.0   477167.0      1955.0  6037.0\n",
       "843328        3.0        1.0       1132.0   285700.0      1916.0  6037.0\n",
       "\n",
       "[1038959 rows x 6 columns]"
      ]
     },
     "execution_count": 46,
     "metadata": {},
     "output_type": "execute_result"
    }
   ],
   "source": [
    "train"
   ]
  },
  {
   "cell_type": "code",
   "execution_count": 49,
   "id": "701de6f3",
   "metadata": {},
   "outputs": [
    {
     "data": {
      "text/html": [
       "<div>\n",
       "<style scoped>\n",
       "    .dataframe tbody tr th:only-of-type {\n",
       "        vertical-align: middle;\n",
       "    }\n",
       "\n",
       "    .dataframe tbody tr th {\n",
       "        vertical-align: top;\n",
       "    }\n",
       "\n",
       "    .dataframe thead th {\n",
       "        text-align: right;\n",
       "    }\n",
       "</style>\n",
       "<table border=\"1\" class=\"dataframe\">\n",
       "  <thead>\n",
       "    <tr style=\"text-align: right;\">\n",
       "      <th></th>\n",
       "      <th>count</th>\n",
       "      <th>mean</th>\n",
       "      <th>std</th>\n",
       "      <th>min</th>\n",
       "      <th>25%</th>\n",
       "      <th>50%</th>\n",
       "      <th>75%</th>\n",
       "      <th>max</th>\n",
       "    </tr>\n",
       "  </thead>\n",
       "  <tbody>\n",
       "    <tr>\n",
       "      <th>bedrooms</th>\n",
       "      <td>1038959.0</td>\n",
       "      <td>3.214004</td>\n",
       "      <td>0.781049</td>\n",
       "      <td>2.0</td>\n",
       "      <td>3.0</td>\n",
       "      <td>3.0</td>\n",
       "      <td>4.0</td>\n",
       "      <td>5.0</td>\n",
       "    </tr>\n",
       "    <tr>\n",
       "      <th>bathrooms</th>\n",
       "      <td>1038959.0</td>\n",
       "      <td>2.053663</td>\n",
       "      <td>0.707839</td>\n",
       "      <td>1.0</td>\n",
       "      <td>2.0</td>\n",
       "      <td>2.0</td>\n",
       "      <td>2.5</td>\n",
       "      <td>4.0</td>\n",
       "    </tr>\n",
       "    <tr>\n",
       "      <th>square_feet</th>\n",
       "      <td>1038959.0</td>\n",
       "      <td>1653.719097</td>\n",
       "      <td>564.247247</td>\n",
       "      <td>1.0</td>\n",
       "      <td>1232.0</td>\n",
       "      <td>1548.0</td>\n",
       "      <td>1987.0</td>\n",
       "      <td>3410.0</td>\n",
       "    </tr>\n",
       "    <tr>\n",
       "      <th>tax_value</th>\n",
       "      <td>1038959.0</td>\n",
       "      <td>327962.928757</td>\n",
       "      <td>198987.574520</td>\n",
       "      <td>22.0</td>\n",
       "      <td>173843.5</td>\n",
       "      <td>296624.0</td>\n",
       "      <td>452514.0</td>\n",
       "      <td>950940.0</td>\n",
       "    </tr>\n",
       "    <tr>\n",
       "      <th>year_built</th>\n",
       "      <td>1038959.0</td>\n",
       "      <td>1959.441559</td>\n",
       "      <td>20.533659</td>\n",
       "      <td>1812.0</td>\n",
       "      <td>1949.0</td>\n",
       "      <td>1957.0</td>\n",
       "      <td>1972.0</td>\n",
       "      <td>2016.0</td>\n",
       "    </tr>\n",
       "  </tbody>\n",
       "</table>\n",
       "</div>"
      ],
      "text/plain": [
       "                 count           mean            std     min       25%  \\\n",
       "bedrooms     1038959.0       3.214004       0.781049     2.0       3.0   \n",
       "bathrooms    1038959.0       2.053663       0.707839     1.0       2.0   \n",
       "square_feet  1038959.0    1653.719097     564.247247     1.0    1232.0   \n",
       "tax_value    1038959.0  327962.928757  198987.574520    22.0  173843.5   \n",
       "year_built   1038959.0    1959.441559      20.533659  1812.0    1949.0   \n",
       "\n",
       "                  50%       75%       max  \n",
       "bedrooms          3.0       4.0       5.0  \n",
       "bathrooms         2.0       2.5       4.0  \n",
       "square_feet    1548.0    1987.0    3410.0  \n",
       "tax_value    296624.0  452514.0  950940.0  \n",
       "year_built     1957.0    1972.0    2016.0  "
      ]
     },
     "execution_count": 49,
     "metadata": {},
     "output_type": "execute_result"
    }
   ],
   "source": [
    "train.describe().T"
   ]
  },
  {
   "cell_type": "markdown",
   "id": "cddd1a2e",
   "metadata": {},
   "source": [
    "## 3.  Store all of the necessary functions to automate your process from acquiring the data to returning a cleaned dataframe witn no missing values in your wrangle.py file. Name your final function wrangle_zillow."
   ]
  },
  {
   "cell_type": "code",
   "execution_count": null,
   "id": "12d68793",
   "metadata": {},
   "outputs": [],
   "source": [
    "'''Wrangles data from Zillow Database'''\n",
    "\n",
    "##################################################Wrangle.py###################################################\n",
    "\n",
    "import pandas as pd\n",
    "\n",
    "import matplotlib.pyplot as plt\n",
    "import seaborn as sns\n",
    "\n",
    "from sklearn.model_selection import train_test_split\n",
    "from sklearn.impute import SimpleImputer\n",
    "\n",
    "from env import user, password, host\n",
    "\n",
    "#**************************************************Acquire*******************************************************\n",
    "\n",
    "def acquire_zillow():\n",
    "    ''' Acquire data from Zillow using env imports and rename columns'''\n",
    "    \n",
    "    url = f\"mysql+pymysql://{user}:{password}@{host}/zillow\"\n",
    "    \n",
    "    query = \"\"\"\n",
    "            \n",
    "    SELECT bedroomcnt, bathroomcnt, calculatedfinishedsquarefeet, taxvaluedollarcnt, yearbuilt, taxamount, fips\n",
    "    FROM properties_2017\n",
    "\n",
    "    LEFT JOIN propertylandusetype USING(propertylandusetypeid)\n",
    "\n",
    "    WHERE propertylandusedesc IN (\"Single Family Residential\",                       \n",
    "                                  \"Inferred Single Family Residential\")\"\"\"\n",
    "\n",
    "    # get dataframe of data\n",
    "    df = pd.read_sql(query, url)\n",
    "    \n",
    "    \n",
    "    # renaming column names to one's I like better\n",
    "    df = df.rename(columns = {'bedroomcnt':'bedrooms', \n",
    "                              'bathroomcnt':'bathrooms', \n",
    "                              'calculatedfinishedsquarefeet':'area',\n",
    "                              'taxvaluedollarcnt':'tax_value', \n",
    "                              'yearbuilt':'year_built',})\n",
    "    return df\n",
    "\n",
    "#**************************************************Remove Outliers*******************************************************\n",
    "\n",
    "def remove_outliers(df, k, col_list):\n",
    "    ''' remove outliers from a list of columns in a dataframe \n",
    "        and return that dataframe\n",
    "    '''\n",
    "    \n",
    "    for col in col_list:\n",
    "\n",
    "        q1, q3 = df[col].quantile([.25, .75])  # get quartiles\n",
    "        \n",
    "        iqr = q3 - q1   # calculate interquartile range\n",
    "        \n",
    "        upper_bound = q3 + k * iqr   # get upper bound\n",
    "        lower_bound = q1 - k * iqr   # get lower bound\n",
    "\n",
    "        # return dataframe without outliers\n",
    "        \n",
    "        df = df[(df[col] > lower_bound) & (df[col] < upper_bound)]\n",
    "        \n",
    "    return df\n",
    "\n",
    "#**************************************************Distributions*******************************************************\n",
    "\n",
    "def get_hist(df):\n",
    "    ''' Gets histographs of acquired continuous variables'''\n",
    "    \n",
    "    plt.figure(figsize=(16, 3))\n",
    "\n",
    "    # List of columns\n",
    "    cols = [col for col in df.columns if col not in ['fips', 'year_built']]\n",
    "\n",
    "    for i, col in enumerate(cols):\n",
    "\n",
    "        # i starts at 0, but plot nos should start at 1\n",
    "        plot_number = i + 1 \n",
    "\n",
    "        # Create subplot.\n",
    "        plt.subplot(1, len(cols), plot_number)\n",
    "\n",
    "        # Title with column name.\n",
    "        plt.title(col)\n",
    "\n",
    "        # Display histogram for column.\n",
    "        df[col].hist(bins=5)\n",
    "\n",
    "        # Hide gridlines.\n",
    "        plt.grid(False)\n",
    "\n",
    "        # turn off scientific notation\n",
    "        plt.ticklabel_format(useOffset=False)\n",
    "\n",
    "        plt.tight_layout()\n",
    "\n",
    "    plt.show()\n",
    "        \n",
    "        \n",
    "def get_box(df):\n",
    "    ''' Gets boxplots of acquired continuous variables'''\n",
    "    \n",
    "    # List of columns\n",
    "    cols = ['bedrooms', 'bathrooms', 'area', 'tax_value', 'taxamount']\n",
    "\n",
    "    plt.figure(figsize=(16, 3))\n",
    "\n",
    "    for i, col in enumerate(cols):\n",
    "\n",
    "        # i starts at 0, but plot should start at 1\n",
    "        plot_number = i + 1 \n",
    "\n",
    "        # Create subplot.\n",
    "        plt.subplot(1, len(cols), plot_number)\n",
    "\n",
    "        # Title with column name.\n",
    "        plt.title(col)\n",
    "\n",
    "        # Display boxplot for column.\n",
    "        sns.boxplot(data=df[[col]])\n",
    "\n",
    "        # Hide gridlines.\n",
    "        plt.grid(False)\n",
    "\n",
    "        # sets proper spacing between plots\n",
    "        plt.tight_layout()\n",
    "\n",
    "    plt.show()\n",
    "        \n",
    "#**************************************************Prepare*******************************************************\n",
    "\n",
    "def prepare_zillow(df):\n",
    "    ''' Prepare zillow data for exploration'''\n",
    "\n",
    "    # removing outliers\n",
    "    df = remove_outliers(df, 1.5, ['bedrooms', 'bathrooms', 'area', 'tax_value', 'taxamount'])\n",
    "    \n",
    "    # get distributions of numeric data\n",
    "    get_hist(df)\n",
    "    get_box(df)\n",
    "    \n",
    "    # converting column datatypes\n",
    "    df.fips = df.fips.astype(object)\n",
    "    df.year_built = df.year_built.astype(object)\n",
    "    \n",
    "    # drop taxamount\n",
    "    df = df.drop(columns = 'taxamount')\n",
    "    \n",
    "    # train/validate/test split\n",
    "    train_validate, test = train_test_split(df, test_size=.2, random_state=123)\n",
    "    train, validate = train_test_split(train_validate, test_size=.3, random_state=123)\n",
    "    \n",
    "    # impute year built using mode\n",
    "    imputer = SimpleImputer(strategy='most_frequent')\n",
    "\n",
    "    imputer.fit(train[['year_built']])\n",
    "\n",
    "    train[['year_built']] = imputer.transform(train[['year_built']])\n",
    "    validate[['year_built']] = imputer.transform(validate[['year_built']])\n",
    "    test[['year_built']] = imputer.transform(test[['year_built']])       \n",
    "    \n",
    "    return train, validate, test    \n",
    "\n",
    "#**************************************************Wrangle*******************************************************\n",
    "\n",
    "def wrangle_zillow():\n",
    "    '''Acquire and prepare data from Zillow database for explore'''\n",
    "    train, validate, test = prepare_zillow(acquire_zillow())\n",
    "    \n",
    "    return train, validate, test"
   ]
  }
 ],
 "metadata": {
  "kernelspec": {
   "display_name": "Python 3.8.8 64-bit ('base': conda)",
   "language": "python",
   "name": "python388jvsc74a57bd0b64057e63add2b45b1ffc7eab9b09c8889b419c878e2fdf0d08f837f0fc857a7"
  },
  "language_info": {
   "codemirror_mode": {
    "name": "ipython",
    "version": 3
   },
   "file_extension": ".py",
   "mimetype": "text/x-python",
   "name": "python",
   "nbconvert_exporter": "python",
   "pygments_lexer": "ipython3",
   "version": "3.8.8"
  }
 },
 "nbformat": 4,
 "nbformat_minor": 5
}
