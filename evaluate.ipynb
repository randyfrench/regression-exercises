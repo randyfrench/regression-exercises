{
 "cells": [
  {
   "cell_type": "markdown",
   "id": "b06e2e54",
   "metadata": {},
   "source": [
    "### 1. Load the tips dataset from either pydataset or seaborn."
   ]
  },
  {
   "cell_type": "code",
   "execution_count": 29,
   "id": "a0f289cc",
   "metadata": {},
   "outputs": [],
   "source": [
    "import warnings\n",
    "warnings.filterwarnings(\"ignore\")\n",
    "\n",
    "import pandas as pd\n",
    "import numpy as np\n",
    "\n",
    "import matplotlib.pyplot as plt\n",
    "from pydataset import data\n",
    "import math\n",
    "\n",
    "from sklearn.model_selection import train_test_split\n",
    "from scipy.stats import pearsonr, spearmanr\n",
    "from sklearn.metrics import r2_score, mean_squared_error\n",
    "from sklearn.metrics import explained_variance_score\n"
   ]
  },
  {
   "cell_type": "code",
   "execution_count": 30,
   "id": "6f6c2602",
   "metadata": {},
   "outputs": [
    {
     "data": {
      "text/plain": [
       "total_bill    float64\n",
       "tip           float64\n",
       "sex            object\n",
       "smoker         object\n",
       "day            object\n",
       "time           object\n",
       "size            int64\n",
       "dtype: object"
      ]
     },
     "execution_count": 30,
     "metadata": {},
     "output_type": "execute_result"
    }
   ],
   "source": [
    "df = data('tips')\n",
    "df.dtypes"
   ]
  },
  {
   "cell_type": "code",
   "execution_count": 31,
   "id": "ab7ed0b3",
   "metadata": {},
   "outputs": [
    {
     "data": {
      "text/html": [
       "<div>\n",
       "<style scoped>\n",
       "    .dataframe tbody tr th:only-of-type {\n",
       "        vertical-align: middle;\n",
       "    }\n",
       "\n",
       "    .dataframe tbody tr th {\n",
       "        vertical-align: top;\n",
       "    }\n",
       "\n",
       "    .dataframe thead th {\n",
       "        text-align: right;\n",
       "    }\n",
       "</style>\n",
       "<table border=\"1\" class=\"dataframe\">\n",
       "  <thead>\n",
       "    <tr style=\"text-align: right;\">\n",
       "      <th></th>\n",
       "      <th>total_bill</th>\n",
       "      <th>tip</th>\n",
       "      <th>sex</th>\n",
       "      <th>smoker</th>\n",
       "      <th>day</th>\n",
       "      <th>time</th>\n",
       "      <th>size</th>\n",
       "    </tr>\n",
       "  </thead>\n",
       "  <tbody>\n",
       "    <tr>\n",
       "      <th>1</th>\n",
       "      <td>16.99</td>\n",
       "      <td>1.01</td>\n",
       "      <td>Female</td>\n",
       "      <td>No</td>\n",
       "      <td>Sun</td>\n",
       "      <td>Dinner</td>\n",
       "      <td>2</td>\n",
       "    </tr>\n",
       "    <tr>\n",
       "      <th>2</th>\n",
       "      <td>10.34</td>\n",
       "      <td>1.66</td>\n",
       "      <td>Male</td>\n",
       "      <td>No</td>\n",
       "      <td>Sun</td>\n",
       "      <td>Dinner</td>\n",
       "      <td>3</td>\n",
       "    </tr>\n",
       "    <tr>\n",
       "      <th>3</th>\n",
       "      <td>21.01</td>\n",
       "      <td>3.50</td>\n",
       "      <td>Male</td>\n",
       "      <td>No</td>\n",
       "      <td>Sun</td>\n",
       "      <td>Dinner</td>\n",
       "      <td>3</td>\n",
       "    </tr>\n",
       "    <tr>\n",
       "      <th>4</th>\n",
       "      <td>23.68</td>\n",
       "      <td>3.31</td>\n",
       "      <td>Male</td>\n",
       "      <td>No</td>\n",
       "      <td>Sun</td>\n",
       "      <td>Dinner</td>\n",
       "      <td>2</td>\n",
       "    </tr>\n",
       "    <tr>\n",
       "      <th>5</th>\n",
       "      <td>24.59</td>\n",
       "      <td>3.61</td>\n",
       "      <td>Female</td>\n",
       "      <td>No</td>\n",
       "      <td>Sun</td>\n",
       "      <td>Dinner</td>\n",
       "      <td>4</td>\n",
       "    </tr>\n",
       "  </tbody>\n",
       "</table>\n",
       "</div>"
      ],
      "text/plain": [
       "   total_bill   tip     sex smoker  day    time  size\n",
       "1       16.99  1.01  Female     No  Sun  Dinner     2\n",
       "2       10.34  1.66    Male     No  Sun  Dinner     3\n",
       "3       21.01  3.50    Male     No  Sun  Dinner     3\n",
       "4       23.68  3.31    Male     No  Sun  Dinner     2\n",
       "5       24.59  3.61  Female     No  Sun  Dinner     4"
      ]
     },
     "execution_count": 31,
     "metadata": {},
     "output_type": "execute_result"
    }
   ],
   "source": [
    "df.head()"
   ]
  },
  {
   "cell_type": "markdown",
   "id": "c8a26a93",
   "metadata": {},
   "source": [
    "### 2. Fit a linear regression model (ordinary least squares) and compute yhat, predictions of tip using total_bill.\n",
    "\n",
    "Here is some sample code to get you started:\n",
    "\n",
    "- from sklearn.linear_model import LinearRegression\n",
    "\n",
    "- assuming X and y are already defined\n",
    "\n",
    "model = LinearRegression().fit(X, y)\n",
    "\n",
    "predictions = model.predict(X) "
   ]
  },
  {
   "cell_type": "code",
   "execution_count": 32,
   "id": "4c856d27",
   "metadata": {},
   "outputs": [],
   "source": [
    "from sklearn.linear_model import LinearRegression"
   ]
  },
  {
   "cell_type": "code",
   "execution_count": 33,
   "id": "c660279e",
   "metadata": {},
   "outputs": [],
   "source": [
    "#create and fit the model\n",
    "model = LinearRegression().fit(df[['total_bill']], df.tip)\n"
   ]
  },
  {
   "cell_type": "code",
   "execution_count": 34,
   "id": "c71444c8",
   "metadata": {},
   "outputs": [],
   "source": [
    "#use the model\n",
    "df['yhat'] = model.predict(df[['total_bill']])"
   ]
  },
  {
   "cell_type": "code",
   "execution_count": 35,
   "id": "0be9c288",
   "metadata": {},
   "outputs": [],
   "source": [
    "#create new colun yhat_baseline\n",
    "df['yhat_baseline'] = df.tip.mean()"
   ]
  },
  {
   "cell_type": "code",
   "execution_count": 36,
   "id": "1b74c29e",
   "metadata": {},
   "outputs": [
    {
     "data": {
      "text/html": [
       "<div>\n",
       "<style scoped>\n",
       "    .dataframe tbody tr th:only-of-type {\n",
       "        vertical-align: middle;\n",
       "    }\n",
       "\n",
       "    .dataframe tbody tr th {\n",
       "        vertical-align: top;\n",
       "    }\n",
       "\n",
       "    .dataframe thead th {\n",
       "        text-align: right;\n",
       "    }\n",
       "</style>\n",
       "<table border=\"1\" class=\"dataframe\">\n",
       "  <thead>\n",
       "    <tr style=\"text-align: right;\">\n",
       "      <th></th>\n",
       "      <th>total_bill</th>\n",
       "      <th>tip</th>\n",
       "      <th>sex</th>\n",
       "      <th>smoker</th>\n",
       "      <th>day</th>\n",
       "      <th>time</th>\n",
       "      <th>size</th>\n",
       "      <th>yhat</th>\n",
       "      <th>yhat_baseline</th>\n",
       "    </tr>\n",
       "  </thead>\n",
       "  <tbody>\n",
       "    <tr>\n",
       "      <th>1</th>\n",
       "      <td>16.99</td>\n",
       "      <td>1.01</td>\n",
       "      <td>Female</td>\n",
       "      <td>No</td>\n",
       "      <td>Sun</td>\n",
       "      <td>Dinner</td>\n",
       "      <td>2</td>\n",
       "      <td>2.704636</td>\n",
       "      <td>2.998279</td>\n",
       "    </tr>\n",
       "    <tr>\n",
       "      <th>2</th>\n",
       "      <td>10.34</td>\n",
       "      <td>1.66</td>\n",
       "      <td>Male</td>\n",
       "      <td>No</td>\n",
       "      <td>Sun</td>\n",
       "      <td>Dinner</td>\n",
       "      <td>3</td>\n",
       "      <td>2.006223</td>\n",
       "      <td>2.998279</td>\n",
       "    </tr>\n",
       "    <tr>\n",
       "      <th>3</th>\n",
       "      <td>21.01</td>\n",
       "      <td>3.50</td>\n",
       "      <td>Male</td>\n",
       "      <td>No</td>\n",
       "      <td>Sun</td>\n",
       "      <td>Dinner</td>\n",
       "      <td>3</td>\n",
       "      <td>3.126835</td>\n",
       "      <td>2.998279</td>\n",
       "    </tr>\n",
       "    <tr>\n",
       "      <th>4</th>\n",
       "      <td>23.68</td>\n",
       "      <td>3.31</td>\n",
       "      <td>Male</td>\n",
       "      <td>No</td>\n",
       "      <td>Sun</td>\n",
       "      <td>Dinner</td>\n",
       "      <td>2</td>\n",
       "      <td>3.407250</td>\n",
       "      <td>2.998279</td>\n",
       "    </tr>\n",
       "    <tr>\n",
       "      <th>5</th>\n",
       "      <td>24.59</td>\n",
       "      <td>3.61</td>\n",
       "      <td>Female</td>\n",
       "      <td>No</td>\n",
       "      <td>Sun</td>\n",
       "      <td>Dinner</td>\n",
       "      <td>4</td>\n",
       "      <td>3.502822</td>\n",
       "      <td>2.998279</td>\n",
       "    </tr>\n",
       "  </tbody>\n",
       "</table>\n",
       "</div>"
      ],
      "text/plain": [
       "   total_bill   tip     sex smoker  day    time  size      yhat  yhat_baseline\n",
       "1       16.99  1.01  Female     No  Sun  Dinner     2  2.704636       2.998279\n",
       "2       10.34  1.66    Male     No  Sun  Dinner     3  2.006223       2.998279\n",
       "3       21.01  3.50    Male     No  Sun  Dinner     3  3.126835       2.998279\n",
       "4       23.68  3.31    Male     No  Sun  Dinner     2  3.407250       2.998279\n",
       "5       24.59  3.61  Female     No  Sun  Dinner     4  3.502822       2.998279"
      ]
     },
     "execution_count": 36,
     "metadata": {},
     "output_type": "execute_result"
    }
   ],
   "source": [
    "#show new column\n",
    "df.head()"
   ]
  },
  {
   "cell_type": "markdown",
   "id": "fe8e98da",
   "metadata": {},
   "source": [
    "## 3. Plot the residuals for the linear regression model that you made."
   ]
  },
  {
   "cell_type": "code",
   "execution_count": 37,
   "id": "41b2d2df",
   "metadata": {},
   "outputs": [],
   "source": [
    "df['baseline_residuals'] = df.tip - df.yhat_baseline\n",
    "df['residuals'] = df.tip - df.yhat"
   ]
  },
  {
   "cell_type": "code",
   "execution_count": 38,
   "id": "92f68296",
   "metadata": {},
   "outputs": [
    {
     "data": {
      "image/png": "[encoded data removed]",
      "text/plain": [
       "<Figure size 432x288 with 1 Axes>"
      ]
     },
     "metadata": {
      "needs_background": "light"
     },
     "output_type": "display_data"
    }
   ],
   "source": [
    "#show distribution of residuals\n",
    "df.residuals.plot.hist()\n",
    "plt.show()\n",
    "\n",
    "#this shows normal distribution"
   ]
  },
  {
   "cell_type": "code",
   "execution_count": 39,
   "id": "aee4208c",
   "metadata": {},
   "outputs": [
    {
     "data": {
      "image/png": "[encoded data removed]",
      "text/plain": [
       "<Figure size 432x288 with 1 Axes>"
      ]
     },
     "metadata": {
      "needs_background": "light"
     },
     "output_type": "display_data"
    }
   ],
   "source": [
    "#show distribution of residuals baseline\n",
    "df.baseline_residuals.plot.hist()\n",
    "plt.show()"
   ]
  },
  {
   "cell_type": "code",
   "execution_count": 42,
   "id": "e0403a29",
   "metadata": {},
   "outputs": [
    {
     "data": {
      "image/png": "[encoded data removed]",
      "text/plain": [
       "<Figure size 936x504 with 1 Axes>"
      ]
     },
     "metadata": {
      "needs_background": "light"
     },
     "output_type": "display_data"
    }
   ],
   "source": [
    "#plot baseline over residuals\n",
    "fig, ax = plt.subplots(figsize=(13,7))\n",
    "ax.hist(df.baseline_residuals, label='Baseline Residuals', alpha = .6)\n",
    "ax.hist(df.residuals, label='Model Residuals', alpha = .6)\n",
    "ax.legend()\n",
    "plt.show()"
   ]
  },
  {
   "cell_type": "markdown",
   "id": "ff404340",
   "metadata": {},
   "source": [
    "## 4. Calculate the sum of squared errors, explained sum of squares, total sum of squares, mean squared error, and root mean squared error for your model."
   ]
  },
  {
   "cell_type": "code",
   "execution_count": 43,
   "id": "30adc2b2",
   "metadata": {},
   "outputs": [
    {
     "data": {
      "text/plain": [
       "252.788743850776"
      ]
     },
     "execution_count": 43,
     "metadata": {},
     "output_type": "execute_result"
    }
   ],
   "source": [
    "#calculate sum of squared errors (SSE)\n",
    "sse = (df.residuals**2).sum()\n",
    "sse"
   ]
  },
  {
   "cell_type": "code",
   "execution_count": 46,
   "id": "7c3f8a48",
   "metadata": {},
   "outputs": [
    {
     "data": {
      "text/plain": [
       "212.4237331984042"
      ]
     },
     "execution_count": 46,
     "metadata": {},
     "output_type": "execute_result"
    }
   ],
   "source": [
    "#calculate explained sum of squares (ESS)\n",
    "ess = ((df.yhat - df.tip.mean())**2).sum()\n",
    "ess"
   ]
  },
  {
   "cell_type": "code",
   "execution_count": 47,
   "id": "a382f1b8",
   "metadata": {},
   "outputs": [
    {
     "data": {
      "text/plain": [
       "465.2124770491804"
      ]
     },
     "execution_count": 47,
     "metadata": {},
     "output_type": "execute_result"
    }
   ],
   "source": [
    "#calculate total sum of squares (TSS)\n",
    "tss = ((df.tip - df.tip.mean())**2).sum()\n",
    "tss"
   ]
  },
  {
   "cell_type": "code",
   "execution_count": 48,
   "id": "d354e330",
   "metadata": {},
   "outputs": [
    {
     "data": {
      "text/plain": [
       "1.036019442011377"
      ]
     },
     "execution_count": 48,
     "metadata": {},
     "output_type": "execute_result"
    }
   ],
   "source": [
    "#calculate mean squared errors (MSE)\n",
    "n = df.shape[0]\n",
    "mse = sse/n\n",
    "mse"
   ]
  },
  {
   "cell_type": "code",
   "execution_count": 49,
   "id": "b7fcc312",
   "metadata": {},
   "outputs": [
    {
     "data": {
      "text/plain": [
       "1.0178504025697377"
      ]
     },
     "execution_count": 49,
     "metadata": {},
     "output_type": "execute_result"
    }
   ],
   "source": [
    "#calculate root mean squared errors (RSME)\n",
    "rmse = math.sqrt(mse)\n",
    "rmse"
   ]
  },
  {
   "cell_type": "code",
   "execution_count": 51,
   "id": "4ebfc963",
   "metadata": {},
   "outputs": [
    {
     "name": "stdout",
     "output_type": "stream",
     "text": [
      "ess:212.423733\n"
     ]
    },
    {
     "data": {
      "text/plain": [
       "0.45661658635167607"
      ]
     },
     "execution_count": 51,
     "metadata": {},
     "output_type": "execute_result"
    }
   ],
   "source": [
    "#model score - done manually\n",
    "ess = ((df.yhat - df.tip.mean())**2).sum()\n",
    "tss = ((df.tip - df.tip.mean())**2).sum()\n",
    "print('ess:%4f' % ess)\n",
    "\n",
    "ess/tss"
   ]
  },
  {
   "cell_type": "markdown",
   "id": "fd07ea0f",
   "metadata": {},
   "source": [
    "## 5. Calculate the sum of squared errors, mean squared error, and root mean squared error for the baseline model (i.e. a model that always predicts the average tip amount)."
   ]
  },
  {
   "cell_type": "code",
   "execution_count": 53,
   "id": "08f1ea6e",
   "metadata": {},
   "outputs": [
    {
     "name": "stdout",
     "output_type": "stream",
     "text": [
      "\n",
      "Baseline:\n",
      "\n",
      "sse: 465.2124770491804\n",
      "mse: 1.906608512496641\n",
      "rmse: 1.3807999538298954\n",
      "\n"
     ]
    }
   ],
   "source": [
    "sse_baseline = (df.baseline_residuals ** 2).sum()\n",
    "mse_baseline = sse_baseline/n\n",
    "rmse_baseline = math.sqrt(mse_baseline)\n",
    "\n",
    "print(f'''\n",
    "Baseline:\n",
    "\n",
    "sse: {sse_baseline}\n",
    "mse: {mse_baseline}\n",
    "rmse: {rmse_baseline}\n",
    "''')"
   ]
  },
  {
   "cell_type": "code",
   "execution_count": 55,
   "id": "d5edd3c9",
   "metadata": {},
   "outputs": [
    {
     "name": "stdout",
     "output_type": "stream",
     "text": [
      "ess: 0.000000\n"
     ]
    },
    {
     "data": {
      "text/plain": [
       "0.0"
      ]
     },
     "execution_count": 55,
     "metadata": {},
     "output_type": "execute_result"
    }
   ],
   "source": [
    "#baseline score - done manually\n",
    "ess = ((df.yhat_baseline - df.tip.mean())**2).sum()\n",
    "tss = ((df.tip - df.tip.mean())**2).sum()\n",
    "\n",
    "print('ess: %4f' % ess)\n",
    "ess/tss"
   ]
  },
  {
   "cell_type": "code",
   "execution_count": 56,
   "id": "579faec7",
   "metadata": {},
   "outputs": [
    {
     "data": {
      "text/plain": [
       "1.1102230246251565e-16"
      ]
     },
     "execution_count": 56,
     "metadata": {},
     "output_type": "execute_result"
    }
   ],
   "source": [
    "#baseline score - done with import\n",
    "r2_score(df.tip, df.yhat_baseline)"
   ]
  },
  {
   "cell_type": "markdown",
   "id": "41757d62",
   "metadata": {},
   "source": [
    "## 6. Write python code that compares the sum of squared errors for your model against the sum of squared errors for the baseline model and outputs whether or not your model performs better than the baseline model."
   ]
  },
  {
   "cell_type": "code",
   "execution_count": 57,
   "id": "5da33ea0",
   "metadata": {},
   "outputs": [
    {
     "name": "stdout",
     "output_type": "stream",
     "text": [
      "The model SSE performs BETTER than the sse_baseline\n"
     ]
    }
   ],
   "source": [
    "# break it down\n",
    "\n",
    "#compare SSE model to SSE baseline\n",
    "#output: if SSE < sse_baseline, sse performs better than baseline\n",
    "#OR if SSE > sse_baseline, sse performs worse than baseline\n",
    "\n",
    "if sse < sse_baseline:\n",
    "    print(f'The model SSE performs BETTER than the sse_baseline')\n",
    "else:\n",
    "    print(f'The model SSE performs WORSE thant the sse_baseline')"
   ]
  },
  {
   "cell_type": "markdown",
   "id": "a5059d11",
   "metadata": {},
   "source": [
    "## 7. What is the amount of variance explained in your model?"
   ]
  },
  {
   "cell_type": "code",
   "execution_count": 60,
   "id": "f0aa1841",
   "metadata": {},
   "outputs": [
    {
     "name": "stdout",
     "output_type": "stream",
     "text": [
      "R-squared =  0.0\n",
      "Percent of variance in y explained by x =  0.0 %\n"
     ]
    }
   ],
   "source": [
    "#explained variance score - done manually\n",
    "R2 = ess/tss\n",
    "print('R-squared = ',round(R2,3))\n",
    "print(\"Percent of variance in y explained by x = \", round(R2*100,1), \"%\")"
   ]
  },
  {
   "cell_type": "code",
   "execution_count": 58,
   "id": "e36deaf4",
   "metadata": {},
   "outputs": [
    {
     "name": "stdout",
     "output_type": "stream",
     "text": [
      "Explained Variance =  0.457\n"
     ]
    }
   ],
   "source": [
    "#explained variance score - using import\n",
    "evs = explained_variance_score(df.tip, df.yhat)\n",
    "print('Explained Variance = ', round(evs,3))"
   ]
  },
  {
   "cell_type": "markdown",
   "id": "5955dd37",
   "metadata": {},
   "source": [
    "## 8. Is your model better than the baseline model?"
   ]
  },
  {
   "cell_type": "code",
   "execution_count": 62,
   "id": "389d5626",
   "metadata": {},
   "outputs": [
    {
     "name": "stdout",
     "output_type": "stream",
     "text": [
      "The model RMSE performs BETTER than the rmse_baseline\n"
     ]
    }
   ],
   "source": [
    "if rmse < rmse_baseline:\n",
    "    print(f'The model RMSE performs BETTER than the rmse_baseline')\n",
    "else:\n",
    "    print(f'The model RMSE performs WORSE than the rmse_baseline')"
   ]
  },
  {
   "cell_type": "markdown",
   "id": "c1aa7d3b",
   "metadata": {},
   "source": [
    "## 9. Create a file named evaluate.py that contains the following functions.\n",
    "\n",
    "- plot_residuals(y, yhat): creates a residual plot\n",
    "- regression_errors(y, yhat): returns the following values:\n",
    " - sum of squared errors (SSE)\n",
    " - explained sum of squares (ESS)\n",
    " - total sum of squares (TSS)\n",
    " - mean squared error (MSE)\n",
    " - root mean squared error (RMSE)\n",
    "- baseline_mean_errors(y): computes the SSE, MSE, and RMSE for the baseline model\n",
    "- better_than_baseline(y, yhat): returns true if your model performs better than the baseline, otherwise false"
   ]
  },
  {
   "cell_type": "code",
   "execution_count": 66,
   "id": "43cab8e6",
   "metadata": {},
   "outputs": [],
   "source": [
    "def plot_residuals(df, y, yhat):\n",
    "    '''\n",
    "    This function takes in actual value and predicted value\n",
    "    then creates a histogram\n",
    "    '''\n",
    "    # residuals\n",
    "    df['residuals'] = df[y] - df[yhat]\n",
    "    \n",
    "    fig, ax = plt.subplots(figsize=(13,7))\n",
    "    ax.hist(df.residuals, label='model residuals', alpha=.6)\n",
    "    ax.legend()\n",
    "    return"
   ]
  },
  {
   "cell_type": "code",
   "execution_count": 67,
   "id": "6e2a5200",
   "metadata": {},
   "outputs": [
    {
     "data": {
      "image/png": "[encoded data removed]",
      "text/plain": [
       "<Figure size 936x504 with 1 Axes>"
      ]
     },
     "metadata": {
      "needs_background": "light"
     },
     "output_type": "display_data"
    }
   ],
   "source": [
    "plot_residuals(df, 'tip', 'yhat')"
   ]
  },
  {
   "cell_type": "code",
   "execution_count": 73,
   "id": "e2a1651e",
   "metadata": {},
   "outputs": [],
   "source": [
    "def regression_errors(df, y, yhat):\n",
    "    '''\n",
    "    This function takes in actual value and predicted value\n",
    "    then outputs: the sse, ess, tss, mse and rmse\n",
    "    '''\n",
    "    df['residuals'] = df[y] - df[yhat]\n",
    "    sse = (df.residuals **2).sum()\n",
    "    ess = ((df[yhat] - df[y].mean())**2).sum()\n",
    "    tss = ((df[y] - df[y].mean())**2).sum()\n",
    "    n = df.shape[0]\n",
    "    mse = sse/n\n",
    "    rmse = math.sqrt(mse)\n",
    "    \n",
    "    print(f'''\n",
    "        sse: {sse: .4f}\n",
    "        ess: {ess: .4f}\n",
    "        tss: {tss: .4f}\n",
    "        mse: {mse: .4f}\n",
    "       rmse: {rmse: .4f}\n",
    "        ''')"
   ]
  },
  {
   "cell_type": "code",
   "execution_count": 74,
   "id": "3e0b34ca",
   "metadata": {},
   "outputs": [
    {
     "name": "stdout",
     "output_type": "stream",
     "text": [
      "\n",
      "        sse:  252.7887\n",
      "        ess:  212.4237\n",
      "        tss:  465.2125\n",
      "        mse:  1.0360\n",
      "       rmse:  1.0179\n",
      "        \n"
     ]
    }
   ],
   "source": [
    "regression_errors(df, 'tip', 'yhat')"
   ]
  },
  {
   "cell_type": "code",
   "execution_count": 78,
   "id": "601a1a80",
   "metadata": {},
   "outputs": [],
   "source": [
    "def baseline_mean_errors(df, y, yhat):\n",
    "    '''\n",
    "    This function takes in actual value and predicted value\n",
    "    then outputs the sse, mse and rmse for the baseline model\n",
    "    '''\n",
    "    df['residuals_baseline'] = df[y] - df[yhat]\n",
    "    sse_baseline = (df.residuals_baseline**2).sum()\n",
    "    n = df.shape[0]\n",
    "    mse_baseline = sse_baseline/n\n",
    "    rmse_baseline = math.sqrt(mse_baseline)\n",
    "    \n",
    "    print(f'''\n",
    "        sse_baseline: {sse_baseline: .4f}\n",
    "        mse_baseline: {mse_baseline: .4f}\n",
    "       rmse_baseline: {rmse_baseline: .4f}\n",
    "       ''')"
   ]
  },
  {
   "cell_type": "code",
   "execution_count": 80,
   "id": "749376b4",
   "metadata": {},
   "outputs": [
    {
     "name": "stdout",
     "output_type": "stream",
     "text": [
      "\n",
      "        sse_baseline:  252.7887\n",
      "        mse_baseline:  1.0360\n",
      "       rmse_baseline:  1.0179\n",
      "       \n"
     ]
    }
   ],
   "source": [
    "baseline_mean_errors(df, 'tip', 'yhat')"
   ]
  },
  {
   "cell_type": "code",
   "execution_count": 81,
   "id": "e3f02896",
   "metadata": {},
   "outputs": [],
   "source": [
    "def better_than_baseline(y, yhat):\n",
    "    '''\n",
    "    This function takes in the actual value and predicted value\n",
    "    then returns true if your model performs better than the baseline, otherwise fasle\n",
    "    '''\n",
    "    return regression_errors(y, yhat)[2] < baseline_mean_errors(y)[2]"
   ]
  },
  {
   "cell_type": "code",
   "execution_count": 82,
   "id": "be358956",
   "metadata": {},
   "outputs": [
    {
     "ename": "TypeError",
     "evalue": "regression_errors() missing 1 required positional argument: 'yhat'",
     "output_type": "error",
     "traceback": [
      "\u001b[0;31m---------------------------------------------------------------------------\u001b[0m",
      "\u001b[0;31mTypeError\u001b[0m                                 Traceback (most recent call last)",
      "\u001b[0;32m<ipython-input-82-f6665b48630f>\u001b[0m in \u001b[0;36m<module>\u001b[0;34m\u001b[0m\n\u001b[0;32m----> 1\u001b[0;31m \u001b[0mbetter_than_baseline\u001b[0m\u001b[0;34m(\u001b[0m\u001b[0;34m'tip'\u001b[0m\u001b[0;34m,\u001b[0m \u001b[0;34m'yhat'\u001b[0m\u001b[0;34m)\u001b[0m\u001b[0;34m\u001b[0m\u001b[0;34m\u001b[0m\u001b[0m\n\u001b[0m",
      "\u001b[0;32m<ipython-input-81-aff4328694b0>\u001b[0m in \u001b[0;36mbetter_than_baseline\u001b[0;34m(y, yhat)\u001b[0m\n\u001b[1;32m      4\u001b[0m     \u001b[0mthen\u001b[0m \u001b[0mreturns\u001b[0m \u001b[0mtrue\u001b[0m \u001b[0;32mif\u001b[0m \u001b[0myour\u001b[0m \u001b[0mmodel\u001b[0m \u001b[0mperforms\u001b[0m \u001b[0mbetter\u001b[0m \u001b[0mthan\u001b[0m \u001b[0mthe\u001b[0m \u001b[0mbaseline\u001b[0m\u001b[0;34m,\u001b[0m \u001b[0motherwise\u001b[0m \u001b[0mfasle\u001b[0m\u001b[0;34m\u001b[0m\u001b[0;34m\u001b[0m\u001b[0m\n\u001b[1;32m      5\u001b[0m     '''\n\u001b[0;32m----> 6\u001b[0;31m     \u001b[0;32mreturn\u001b[0m \u001b[0mregression_errors\u001b[0m\u001b[0;34m(\u001b[0m\u001b[0my\u001b[0m\u001b[0;34m,\u001b[0m \u001b[0myhat\u001b[0m\u001b[0;34m)\u001b[0m\u001b[0;34m[\u001b[0m\u001b[0;36m2\u001b[0m\u001b[0;34m]\u001b[0m \u001b[0;34m<\u001b[0m \u001b[0mbaseline_mean_errors\u001b[0m\u001b[0;34m(\u001b[0m\u001b[0my\u001b[0m\u001b[0;34m)\u001b[0m\u001b[0;34m[\u001b[0m\u001b[0;36m2\u001b[0m\u001b[0;34m]\u001b[0m\u001b[0;34m\u001b[0m\u001b[0;34m\u001b[0m\u001b[0m\n\u001b[0m",
      "\u001b[0;31mTypeError\u001b[0m: regression_errors() missing 1 required positional argument: 'yhat'"
     ]
    }
   ],
   "source": [
    "better_than_baseline('tip', 'yhat')"
   ]
  },
  {
   "cell_type": "markdown",
   "id": "a8ff7b1e",
   "metadata": {},
   "source": [
    "## 10. Load the mpg dataset and fit a model that predicts highway mileage based on engine displacement. Take a look at all the regression evaluation metrics, and determine whether this model is better than the baseline model. Use the functions from your evaluate.py to help accomplish this."
   ]
  },
  {
   "cell_type": "code",
   "execution_count": null,
   "id": "3f435080",
   "metadata": {},
   "outputs": [],
   "source": []
  }
 ],
 "metadata": {
  "kernelspec": {
   "display_name": "Python 3.8.8 64-bit ('base': conda)",
   "language": "python",
   "name": "python388jvsc74a57bd0b64057e63add2b45b1ffc7eab9b09c8889b419c878e2fdf0d08f837f0fc857a7"
  },
  "language_info": {
   "codemirror_mode": {
    "name": "ipython",
    "version": 3
   },
   "file_extension": ".py",
   "mimetype": "text/x-python",
   "name": "python",
   "nbconvert_exporter": "python",
   "pygments_lexer": "ipython3",
   "version": "3.8.8"
  }
 },
 "nbformat": 4,
 "nbformat_minor": 5
}
